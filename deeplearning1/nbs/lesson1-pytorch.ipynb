{
 "cells": [
  {
   "cell_type": "markdown",
   "metadata": {
    "deletable": true,
    "editable": true
   },
   "source": [
    "# Load VGG model"
   ]
  },
  {
   "cell_type": "code",
   "execution_count": 1,
   "metadata": {
    "collapsed": false,
    "deletable": true,
    "editable": true
   },
   "outputs": [],
   "source": [
    "import torch\n",
    "import torchvision.models as models\n",
    "import torchvision.transforms as transforms\n",
    "import torchvision.datasets as datasets\n",
    "from torchvision.utils import make_grid\n",
    "from PIL import Image\n",
    "import matplotlib.pyplot as plt\n",
    "import torch.nn as nn\n",
    "import torch.optim as optim\n",
    "import torch.utils.trainer as trainer\n",
    "import torch.utils.trainer.plugins\n",
    "from torch.autograd import Variable\n",
    "import numpy as np\n",
    "import os"
   ]
  },
  {
   "cell_type": "code",
   "execution_count": 2,
   "metadata": {
    "collapsed": true,
    "deletable": true,
    "editable": true
   },
   "outputs": [],
   "source": [
    "%matplotlib inline\n",
    "def show(img):\n",
    "    npimg = img.numpy()\n",
    "    plt.imshow(np.transpose(npimg, (1,2,0)), interpolation='nearest')"
   ]
  },
  {
   "cell_type": "code",
   "execution_count": 3,
   "metadata": {
    "collapsed": false,
    "deletable": true,
    "editable": true
   },
   "outputs": [
    {
     "name": "stdout",
     "output_type": "stream",
     "text": [
      "Using CUDA: True\n"
     ]
    }
   ],
   "source": [
    "data_path = \"data/dogscats/\"\n",
    "# data_path = \"data/dogscats/sample/\"\n",
    "use_cuda = torch.cuda.is_available()\n",
    "batch_size = 64\n",
    "print('Using CUDA:', use_cuda)"
   ]
  },
  {
   "cell_type": "code",
   "execution_count": 4,
   "metadata": {
    "collapsed": false,
    "deletable": true,
    "editable": true
   },
   "outputs": [
    {
     "name": "stdout",
     "output_type": "stream",
     "text": [
      "Images in test folder: 12500\n"
     ]
    }
   ],
   "source": [
    "# Data loading code\n",
    "traindir = os.path.join(data_path, 'train')\n",
    "valdir = os.path.join(data_path, 'valid') \n",
    "# cd data/dogscats && mkdir -p test && mv test1 test/\n",
    "testdir = os.path.join(data_path, 'test')\n",
    "\n",
    "# pytorch way of implementing fastai's get_batches, (utils.py)\n",
    "def get_data_loader(dirname, shuffle=True, batch_size = 64):\n",
    "    # pytorch's VGG requires images to be 224x224 and normalized using https://github.com/pytorch/vision#models\n",
    "    normalize = transforms.Compose([\n",
    "        transforms.Lambda(lambda img: img.resize((224, 224), Image.BILINEAR)),\n",
    "        transforms.ToTensor(),\n",
    "        transforms.Normalize(mean=[0.485, 0.456, 0.406], std=[0.229, 0.224, 0.225]),\n",
    "    ])\n",
    "    \n",
    "    image_folder = datasets.ImageFolder(dirname, normalize)\n",
    "    return torch.utils.data.DataLoader(image_folder, batch_size=batch_size, \n",
    "                                       shuffle=shuffle, pin_memory=use_cuda), image_folder\n",
    "\n",
    "train_loader, folder = get_data_loader(traindir, batch_size=batch_size)\n",
    "val_loader, folder = get_data_loader(valdir, shuffle=False, batch_size=batch_size)\n",
    "test_loader, testfolder = get_data_loader(testdir, shuffle=False, batch_size=batch_size)\n",
    "\n",
    "print('Images in test folder:', len(testfolder.imgs))"
   ]
  },
  {
   "cell_type": "code",
   "execution_count": 7,
   "metadata": {
    "collapsed": false,
    "deletable": true,
    "editable": true
   },
   "outputs": [],
   "source": [
    "# Load the model\n",
    "model = models.vgg16(pretrained=True)"
   ]
  },
  {
   "cell_type": "code",
   "execution_count": 8,
   "metadata": {
    "collapsed": false,
    "deletable": true,
    "editable": true
   },
   "outputs": [
    {
     "name": "stdout",
     "output_type": "stream",
     "text": [
      "Using 2 classes: ['cats', 'dogs']\n"
     ]
    }
   ],
   "source": [
    "# Finetune by replacing the last fully connected layer and freezing all network parameters\n",
    "for param in model.parameters():\n",
    "    param.requires_grad = False\n",
    "\n",
    "# Replace the last fully-connected layer matching the new class count\n",
    "classes = train_loader.dataset.classes\n",
    "num_classes = len(classes)\n",
    "print('Using {:d} classes: {}'.format(num_classes, classes))\n",
    "model.classifier = nn.Sequential(\n",
    "            nn.Linear(512 * 7 * 7, 4096),\n",
    "            nn.ReLU(True),\n",
    "            nn.Dropout(),\n",
    "            nn.Linear(4096, 4096),\n",
    "            nn.ReLU(True),\n",
    "            nn.Dropout(),\n",
    "            nn.Linear(4096, num_classes),\n",
    "        )"
   ]
  },
  {
   "cell_type": "code",
   "execution_count": 9,
   "metadata": {
    "collapsed": false,
    "deletable": true,
    "editable": true
   },
   "outputs": [],
   "source": [
    "# define loss function (criterion) and optimizer\n",
    "criterion = nn.CrossEntropyLoss()\n",
    "# enable cuda if available\n",
    "if(use_cuda):\n",
    "    model.cuda()\n",
    "    criterion.cuda()"
   ]
  },
  {
   "cell_type": "code",
   "execution_count": 102,
   "metadata": {
    "collapsed": true
   },
   "outputs": [],
   "source": [
    "optimizer = optim.SGD(model.classifier.parameters(), lr=1e-2, momentum=0.9) # 4 epochs, then switched to 1e-3 for 3 epochs"
   ]
  },
  {
   "cell_type": "code",
   "execution_count": null,
   "metadata": {
    "collapsed": true
   },
   "outputs": [],
   "source": [
    "def getTrainer():\n",
    "    # fine-tune with new classes\n",
    "    t = trainer.Trainer(model, criterion, optimizer, train_loader)\n",
    "    t.register_plugin(trainer.plugins.ProgressMonitor())\n",
    "    t.register_plugin(trainer.plugins.AccuracyMonitor())\n",
    "    t.register_plugin(trainer.plugins.LossMonitor())\n",
    "    t.register_plugin(trainer.plugins.TimeMonitor())\n",
    "    t.register_plugin(trainer.plugins.Logger(['progress', 'accuracy', 'loss', 'time']))\n",
    "    \n",
    "    # Requires a monkey patched version of trainery.py that calls\n",
    "    # input_var = Variable(batch_input.cuda())    # Line 57\n",
    "    # target_var = Variable(batch_target.cuda())  # Line 58\n",
    "    return t"
   ]
  },
  {
   "cell_type": "code",
   "execution_count": null,
   "metadata": {
    "collapsed": false,
    "deletable": true,
    "editable": true
   },
   "outputs": [
    {
     "name": "stdout",
     "output_type": "stream",
     "text": [
      "progress: 1/360 (0.28%)\taccuracy: 100.00%  (30.00%)\tloss: 0.0000  (0.0000)\ttime: 0ms  (0ms)\n",
      "progress: 2/360 (0.56%)\taccuracy: 100.00%  (51.00%)\tloss: 0.0000  (0.0000)\ttime: 1623ms  (487ms)\n",
      "progress: 3/360 (0.83%)\taccuracy: 100.00%  (65.70%)\tloss: 0.0043  (0.0013)\ttime: 1582ms  (816ms)\n",
      "progress: 4/360 (1.11%)\taccuracy: 100.00%  (75.99%)\tloss: 0.0001  (0.0009)\ttime: 1614ms  (1055ms)\n",
      "progress: 5/360 (1.39%)\taccuracy: 100.00%  (83.19%)\tloss: 0.0019  (0.0012)\ttime: 1596ms  (1217ms)\n",
      "progress: 6/360 (1.67%)\taccuracy: 100.00%  (88.24%)\tloss: 0.0003  (0.0009)\ttime: 1583ms  (1327ms)\n",
      "progress: 7/360 (1.94%)\taccuracy: 100.00%  (91.76%)\tloss: 0.0000  (0.0007)\ttime: 1679ms  (1433ms)\n",
      "progress: 8/360 (2.22%)\taccuracy: 100.00%  (94.24%)\tloss: 0.0002  (0.0005)\ttime: 1577ms  (1476ms)\n",
      "progress: 9/360 (2.50%)\taccuracy: 100.00%  (95.96%)\tloss: 0.0006  (0.0005)\ttime: 1585ms  (1509ms)\n",
      "progress: 10/360 (2.78%)\taccuracy: 100.00%  (97.18%)\tloss: 0.0098  (0.0033)\ttime: 1647ms  (1550ms)\n",
      "progress: 11/360 (3.06%)\taccuracy: 100.00%  (98.02%)\tloss: 0.0004  (0.0025)\ttime: 1574ms  (1557ms)\n",
      "progress: 12/360 (3.33%)\taccuracy: 100.00%  (98.62%)\tloss: 0.0000  (0.0017)\ttime: 1586ms  (1566ms)\n",
      "progress: 13/360 (3.61%)\taccuracy: 100.00%  (99.03%)\tloss: 0.0030  (0.0021)\ttime: 1567ms  (1567ms)\n",
      "progress: 14/360 (3.89%)\taccuracy: 100.00%  (99.32%)\tloss: 0.0022  (0.0021)\ttime: 1598ms  (1576ms)\n",
      "progress: 15/360 (4.17%)\taccuracy: 96.88%   (98.59%)\tloss: 0.0882  (0.0279)\ttime: 1585ms  (1579ms)\n",
      "progress: 16/360 (4.44%)\taccuracy: 100.00%  (99.01%)\tloss: 0.0036  (0.0206)\ttime: 1579ms  (1579ms)\n",
      "progress: 17/360 (4.72%)\taccuracy: 100.00%  (99.31%)\tloss: 0.0000  (0.0145)\ttime: 1592ms  (1583ms)\n",
      "progress: 18/360 (5.00%)\taccuracy: 100.00%  (99.52%)\tloss: 0.0005  (0.0103)\ttime: 1608ms  (1591ms)\n",
      "progress: 19/360 (5.28%)\taccuracy: 100.00%  (99.66%)\tloss: 0.0000  (0.0072)\ttime: 1605ms  (1595ms)\n",
      "progress: 20/360 (5.56%)\taccuracy: 100.00%  (99.76%)\tloss: 0.0030  (0.0059)\ttime: 1629ms  (1605ms)\n",
      "progress: 21/360 (5.83%)\taccuracy: 100.00%  (99.83%)\tloss: 0.0040  (0.0053)\ttime: 1590ms  (1601ms)\n",
      "progress: 22/360 (6.11%)\taccuracy: 100.00%  (99.88%)\tloss: 0.0002  (0.0038)\ttime: 1584ms  (1595ms)\n",
      "progress: 23/360 (6.39%)\taccuracy: 100.00%  (99.92%)\tloss: 0.0000  (0.0027)\ttime: 1619ms  (1603ms)\n",
      "progress: 24/360 (6.67%)\taccuracy: 100.00%  (99.94%)\tloss: 0.0002  (0.0019)\ttime: 1576ms  (1595ms)\n",
      "progress: 25/360 (6.94%)\taccuracy: 100.00%  (99.96%)\tloss: 0.0014  (0.0018)\ttime: 1578ms  (1590ms)\n",
      "progress: 26/360 (7.22%)\taccuracy: 100.00%  (99.97%)\tloss: 0.0014  (0.0017)\ttime: 1582ms  (1587ms)\n",
      "progress: 27/360 (7.50%)\taccuracy: 100.00%  (99.98%)\tloss: 0.0001  (0.0012)\ttime: 1604ms  (1592ms)\n",
      "progress: 28/360 (7.78%)\taccuracy: 100.00%  (99.99%)\tloss: 0.0000  (0.0008)\ttime: 1623ms  (1601ms)\n",
      "progress: 29/360 (8.06%)\taccuracy: 100.00%  (99.99%)\tloss: 0.0000  (0.0006)\ttime: 1653ms  (1617ms)\n",
      "progress: 30/360 (8.33%)\taccuracy: 100.00%  (99.99%)\tloss: 0.0002  (0.0005)\ttime: 1607ms  (1614ms)\n",
      "progress: 31/360 (8.61%)\taccuracy: 100.00%  (100.00%)\tloss: 0.0000  (0.0003)\ttime: 1596ms  (1609ms)\n",
      "progress: 32/360 (8.89%)\taccuracy: 100.00%  (100.00%)\tloss: 0.0072  (0.0024)\ttime: 1612ms  (1610ms)\n",
      "progress: 33/360 (9.17%)\taccuracy: 100.00%  (100.00%)\tloss: 0.0004  (0.0018)\ttime: 1572ms  (1598ms)\n",
      "progress: 34/360 (9.44%)\taccuracy: 100.00%  (100.00%)\tloss: 0.0004  (0.0014)\ttime: 1607ms  (1601ms)\n",
      "progress: 35/360 (9.72%)\taccuracy: 100.00%  (100.00%)\tloss: 0.0014  (0.0014)\ttime: 1621ms  (1607ms)\n",
      "progress: 36/360 (10.00%)\taccuracy: 100.00%  (100.00%)\tloss: 0.0000  (0.0010)\ttime: 1592ms  (1602ms)\n",
      "progress: 37/360 (10.28%)\taccuracy: 100.00%  (100.00%)\tloss: 0.0000  (0.0007)\ttime: 1605ms  (1603ms)\n",
      "progress: 38/360 (10.56%)\taccuracy: 100.00%  (100.00%)\tloss: 0.0000  (0.0005)\ttime: 1612ms  (1606ms)\n",
      "progress: 39/360 (10.83%)\taccuracy: 100.00%  (100.00%)\tloss: 0.0000  (0.0003)\ttime: 1626ms  (1612ms)\n",
      "progress: 40/360 (11.11%)\taccuracy: 100.00%  (100.00%)\tloss: 0.0000  (0.0003)\ttime: 1628ms  (1617ms)\n",
      "progress: 41/360 (11.39%)\taccuracy: 100.00%  (100.00%)\tloss: 0.0001  (0.0002)\ttime: 1599ms  (1611ms)\n",
      "progress: 42/360 (11.67%)\taccuracy: 100.00%  (100.00%)\tloss: 0.0029  (0.0010)\ttime: 1606ms  (1610ms)\n",
      "progress: 43/360 (11.94%)\taccuracy: 100.00%  (100.00%)\tloss: 0.0001  (0.0007)\ttime: 1610ms  (1610ms)\n",
      "progress: 44/360 (12.22%)\taccuracy: 100.00%  (100.00%)\tloss: 0.0000  (0.0005)\ttime: 1647ms  (1621ms)\n",
      "progress: 45/360 (12.50%)\taccuracy: 100.00%  (100.00%)\tloss: 0.0001  (0.0004)\ttime: 1622ms  (1621ms)\n",
      "progress: 46/360 (12.78%)\taccuracy: 100.00%  (100.00%)\tloss: 0.0002  (0.0003)\ttime: 1619ms  (1621ms)\n",
      "progress: 47/360 (13.06%)\taccuracy: 100.00%  (100.00%)\tloss: 0.0006  (0.0004)\ttime: 1619ms  (1620ms)\n",
      "progress: 48/360 (13.33%)\taccuracy: 100.00%  (100.00%)\tloss: 0.0038  (0.0014)\ttime: 1603ms  (1615ms)\n",
      "progress: 49/360 (13.61%)\taccuracy: 100.00%  (100.00%)\tloss: 0.0000  (0.0010)\ttime: 1593ms  (1608ms)\n",
      "progress: 50/360 (13.89%)\taccuracy: 100.00%  (100.00%)\tloss: 0.0004  (0.0008)\ttime: 1626ms  (1614ms)\n",
      "progress: 51/360 (14.17%)\taccuracy: 98.44%   (99.53%) \tloss: 0.0324  (0.0103)\ttime: 1647ms  (1624ms)\n",
      "progress: 52/360 (14.44%)\taccuracy: 100.00%  (99.67%) \tloss: 0.0001  (0.0072)\ttime: 1611ms  (1620ms)\n",
      "progress: 53/360 (14.72%)\taccuracy: 100.00%  (99.77%) \tloss: 0.0000  (0.0051)\ttime: 1637ms  (1625ms)\n",
      "progress: 54/360 (15.00%)\taccuracy: 98.44%   (99.37%) \tloss: 0.0111  (0.0069)\ttime: 1614ms  (1622ms)\n",
      "progress: 55/360 (15.28%)\taccuracy: 100.00%  (99.56%) \tloss: 0.0041  (0.0060)\ttime: 1606ms  (1617ms)\n",
      "progress: 56/360 (15.56%)\taccuracy: 100.00%  (99.69%) \tloss: 0.0002  (0.0043)\ttime: 1625ms  (1619ms)\n",
      "progress: 57/360 (15.83%)\taccuracy: 98.44%   (99.32%) \tloss: 0.0332  (0.0130)\ttime: 1627ms  (1622ms)\n",
      "progress: 58/360 (16.11%)\taccuracy: 100.00%  (99.52%) \tloss: 0.0000  (0.0091)\ttime: 1619ms  (1621ms)\n",
      "progress: 59/360 (16.39%)\taccuracy: 100.00%  (99.66%) \tloss: 0.0015  (0.0068)\ttime: 1626ms  (1622ms)\n",
      "progress: 60/360 (16.67%)\taccuracy: 100.00%  (99.77%) \tloss: 0.0016  (0.0052)\ttime: 1608ms  (1618ms)\n",
      "progress: 61/360 (16.94%)\taccuracy: 100.00%  (99.84%) \tloss: 0.0072  (0.0058)\ttime: 1608ms  (1615ms)\n",
      "progress: 62/360 (17.22%)\taccuracy: 100.00%  (99.88%) \tloss: 0.0000  (0.0041)\ttime: 1621ms  (1617ms)\n",
      "progress: 63/360 (17.50%)\taccuracy: 100.00%  (99.92%) \tloss: 0.0000  (0.0029)\ttime: 1616ms  (1617ms)\n",
      "progress: 64/360 (17.78%)\taccuracy: 100.00%  (99.94%) \tloss: 0.0003  (0.0021)\ttime: 1611ms  (1615ms)\n",
      "progress: 65/360 (18.06%)\taccuracy: 100.00%  (99.96%) \tloss: 0.0000  (0.0015)\ttime: 1588ms  (1607ms)\n",
      "progress: 66/360 (18.33%)\taccuracy: 100.00%  (99.97%) \tloss: 0.0033  (0.0020)\ttime: 1635ms  (1615ms)\n",
      "progress: 67/360 (18.61%)\taccuracy: 100.00%  (99.98%) \tloss: 0.0001  (0.0014)\ttime: 1640ms  (1623ms)\n",
      "progress: 68/360 (18.89%)\taccuracy: 98.44%   (99.52%) \tloss: 0.0175  (0.0062)\ttime: 1621ms  (1622ms)\n",
      "progress: 69/360 (19.17%)\taccuracy: 100.00%  (99.66%) \tloss: 0.0004  (0.0045)\ttime: 1594ms  (1614ms)\n",
      "progress: 70/360 (19.44%)\taccuracy: 100.00%  (99.76%) \tloss: 0.0010  (0.0035)\ttime: 1629ms  (1618ms)\n",
      "progress: 71/360 (19.72%)\taccuracy: 100.00%  (99.83%) \tloss: 0.0000  (0.0024)\ttime: 1624ms  (1620ms)\n",
      "progress: 72/360 (20.00%)\taccuracy: 100.00%  (99.88%) \tloss: 0.0002  (0.0017)\ttime: 1596ms  (1613ms)\n",
      "progress: 73/360 (20.28%)\taccuracy: 100.00%  (99.92%) \tloss: 0.0003  (0.0013)\ttime: 1651ms  (1624ms)\n",
      "progress: 74/360 (20.56%)\taccuracy: 100.00%  (99.94%) \tloss: 0.0000  (0.0009)\ttime: 1598ms  (1616ms)\n",
      "progress: 75/360 (20.83%)\taccuracy: 100.00%  (99.96%) \tloss: 0.0004  (0.0008)\ttime: 1618ms  (1617ms)\n",
      "progress: 76/360 (21.11%)\taccuracy: 100.00%  (99.97%) \tloss: 0.0009  (0.0008)\ttime: 1637ms  (1623ms)\n",
      "progress: 77/360 (21.39%)\taccuracy: 100.00%  (99.98%) \tloss: 0.0023  (0.0013)\ttime: 1626ms  (1624ms)\n",
      "progress: 78/360 (21.67%)\taccuracy: 100.00%  (99.99%) \tloss: 0.0009  (0.0012)\ttime: 1595ms  (1615ms)\n",
      "progress: 79/360 (21.94%)\taccuracy: 100.00%  (99.99%) \tloss: 0.0064  (0.0027)\ttime: 1583ms  (1606ms)\n",
      "progress: 80/360 (22.22%)\taccuracy: 100.00%  (99.99%) \tloss: 0.0004  (0.0020)\ttime: 1600ms  (1604ms)\n",
      "progress: 81/360 (22.50%)\taccuracy: 100.00%  (100.00%)\tloss: 0.0011  (0.0017)\ttime: 1657ms  (1620ms)\n",
      "progress: 82/360 (22.78%)\taccuracy: 100.00%  (100.00%)\tloss: 0.0011  (0.0016)\ttime: 1617ms  (1619ms)\n",
      "progress: 83/360 (23.06%)\taccuracy: 100.00%  (100.00%)\tloss: 0.0007  (0.0013)\ttime: 1609ms  (1616ms)\n",
      "progress: 84/360 (23.33%)\taccuracy: 98.44%   (99.53%) \tloss: 0.0120  (0.0045)\ttime: 1627ms  (1619ms)\n",
      "progress: 85/360 (23.61%)\taccuracy: 100.00%  (99.67%) \tloss: 0.0001  (0.0032)\ttime: 1620ms  (1620ms)\n",
      "progress: 86/360 (23.89%)\taccuracy: 100.00%  (99.77%) \tloss: 0.0001  (0.0023)\ttime: 1618ms  (1619ms)\n",
      "progress: 87/360 (24.17%)\taccuracy: 100.00%  (99.84%) \tloss: 0.0032  (0.0025)\ttime: 1617ms  (1618ms)\n",
      "progress: 88/360 (24.44%)\taccuracy: 100.00%  (99.89%) \tloss: 0.0017  (0.0023)\ttime: 1631ms  (1622ms)\n",
      "progress: 89/360 (24.72%)\taccuracy: 100.00%  (99.92%) \tloss: 0.0000  (0.0016)\ttime: 1629ms  (1624ms)\n",
      "progress: 90/360 (25.00%)\taccuracy: 100.00%  (99.94%) \tloss: 0.0001  (0.0011)\ttime: 1647ms  (1631ms)\n",
      "progress: 91/360 (25.28%)\taccuracy: 100.00%  (99.96%) \tloss: 0.0001  (0.0008)\ttime: 1626ms  (1630ms)\n",
      "progress: 92/360 (25.56%)\taccuracy: 100.00%  (99.97%) \tloss: 0.0001  (0.0006)\ttime: 1638ms  (1632ms)\n",
      "progress: 93/360 (25.83%)\taccuracy: 100.00%  (99.98%) \tloss: 0.0002  (0.0005)\ttime: 1628ms  (1631ms)\n",
      "progress: 94/360 (26.11%)\taccuracy: 100.00%  (99.99%) \tloss: 0.0014  (0.0008)\ttime: 1559ms  (1609ms)\n",
      "progress: 95/360 (26.39%)\taccuracy: 100.00%  (99.99%) \tloss: 0.0000  (0.0005)\ttime: 1611ms  (1610ms)\n",
      "progress: 96/360 (26.67%)\taccuracy: 100.00%  (99.99%) \tloss: 0.0005  (0.0005)\ttime: 1623ms  (1614ms)\n",
      "progress: 97/360 (26.94%)\taccuracy: 100.00%  (100.00%)\tloss: 0.0000  (0.0004)\ttime: 1614ms  (1614ms)\n",
      "progress: 98/360 (27.22%)\taccuracy: 98.44%   (99.53%) \tloss: 0.0594  (0.0181)\ttime: 1583ms  (1605ms)\n",
      "progress: 99/360 (27.50%)\taccuracy: 100.00%  (99.67%) \tloss: 0.0000  (0.0127)\ttime: 1601ms  (1603ms)\n",
      "progress: 100/360 (27.78%)\taccuracy: 100.00%  (99.77%) \tloss: 0.0008  (0.0091)\ttime: 1612ms  (1606ms)\n",
      "progress: 101/360 (28.06%)\taccuracy: 100.00%  (99.84%) \tloss: 0.0009  (0.0067)\ttime: 1697ms  (1633ms)\n",
      "progress: 102/360 (28.33%)\taccuracy: 100.00%  (99.89%) \tloss: 0.0000  (0.0047)\ttime: 1587ms  (1619ms)\n",
      "progress: 103/360 (28.61%)\taccuracy: 98.44%   (99.45%) \tloss: 0.0404  (0.0154)\ttime: 1606ms  (1615ms)\n",
      "progress: 104/360 (28.89%)\taccuracy: 100.00%  (99.62%) \tloss: 0.0002  (0.0108)\ttime: 1625ms  (1618ms)\n",
      "progress: 105/360 (29.17%)\taccuracy: 100.00%  (99.73%) \tloss: 0.0084  (0.0101)\ttime: 1639ms  (1625ms)\n",
      "progress: 106/360 (29.44%)\taccuracy: 98.44%   (99.34%) \tloss: 0.0118  (0.0106)\ttime: 1585ms  (1613ms)\n",
      "progress: 107/360 (29.72%)\taccuracy: 100.00%  (99.54%) \tloss: 0.0041  (0.0086)\ttime: 1605ms  (1610ms)\n",
      "progress: 108/360 (30.00%)\taccuracy: 100.00%  (99.68%) \tloss: 0.0002  (0.0061)\ttime: 1583ms  (1602ms)\n",
      "progress: 109/360 (30.28%)\taccuracy: 98.44%   (99.31%) \tloss: 0.0285  (0.0128)\ttime: 1607ms  (1604ms)\n",
      "progress: 110/360 (30.56%)\taccuracy: 100.00%  (99.51%) \tloss: 0.0000  (0.0090)\ttime: 1628ms  (1611ms)\n",
      "progress: 111/360 (30.83%)\taccuracy: 100.00%  (99.66%) \tloss: 0.0009  (0.0066)\ttime: 1623ms  (1615ms)\n",
      "progress: 112/360 (31.11%)\taccuracy: 100.00%  (99.76%) \tloss: 0.0000  (0.0046)\ttime: 1630ms  (1619ms)\n",
      "progress: 113/360 (31.39%)\taccuracy: 100.00%  (99.83%) \tloss: 0.0000  (0.0032)\ttime: 1550ms  (1598ms)\n",
      "progress: 114/360 (31.67%)\taccuracy: 100.00%  (99.88%) \tloss: 0.0000  (0.0023)\ttime: 1608ms  (1601ms)\n",
      "progress: 115/360 (31.94%)\taccuracy: 100.00%  (99.92%) \tloss: 0.0013  (0.0020)\ttime: 1626ms  (1609ms)\n",
      "progress: 116/360 (32.22%)\taccuracy: 100.00%  (99.94%) \tloss: 0.0007  (0.0016)\ttime: 1624ms  (1613ms)\n",
      "progress: 117/360 (32.50%)\taccuracy: 100.00%  (99.96%) \tloss: 0.0000  (0.0011)\ttime: 1610ms  (1612ms)\n",
      "progress: 118/360 (32.78%)\taccuracy: 100.00%  (99.97%) \tloss: 0.0010  (0.0011)\ttime: 1653ms  (1624ms)\n",
      "progress: 119/360 (33.06%)\taccuracy: 100.00%  (99.98%) \tloss: 0.0028  (0.0016)\ttime: 1636ms  (1628ms)\n",
      "progress: 120/360 (33.33%)\taccuracy: 100.00%  (99.99%) \tloss: 0.0014  (0.0015)\ttime: 1595ms  (1618ms)\n",
      "progress: 121/360 (33.61%)\taccuracy: 100.00%  (99.99%) \tloss: 0.0096  (0.0040)\ttime: 1625ms  (1620ms)\n",
      "progress: 122/360 (33.89%)\taccuracy: 100.00%  (99.99%) \tloss: 0.0096  (0.0056)\ttime: 1630ms  (1623ms)\n",
      "progress: 123/360 (34.17%)\taccuracy: 100.00%  (100.00%)\tloss: 0.0002  (0.0040)\ttime: 1611ms  (1619ms)\n",
      "progress: 124/360 (34.44%)\taccuracy: 100.00%  (100.00%)\tloss: 0.0001  (0.0028)\ttime: 1642ms  (1626ms)\n",
      "progress: 125/360 (34.72%)\taccuracy: 100.00%  (100.00%)\tloss: 0.0025  (0.0028)\ttime: 1585ms  (1614ms)\n",
      "progress: 126/360 (35.00%)\taccuracy: 100.00%  (100.00%)\tloss: 0.0001  (0.0019)\ttime: 1599ms  (1609ms)\n",
      "progress: 127/360 (35.28%)\taccuracy: 100.00%  (100.00%)\tloss: 0.0000  (0.0014)\ttime: 1626ms  (1614ms)\n",
      "progress: 128/360 (35.56%)\taccuracy: 100.00%  (100.00%)\tloss: 0.0013  (0.0013)\ttime: 1605ms  (1611ms)\n",
      "progress: 129/360 (35.83%)\taccuracy: 100.00%  (100.00%)\tloss: 0.0013  (0.0013)\ttime: 1640ms  (1620ms)\n",
      "progress: 130/360 (36.11%)\taccuracy: 100.00%  (100.00%)\tloss: 0.0011  (0.0013)\ttime: 1629ms  (1623ms)\n",
      "progress: 131/360 (36.39%)\taccuracy: 100.00%  (100.00%)\tloss: 0.0015  (0.0013)\ttime: 1619ms  (1622ms)\n",
      "progress: 132/360 (36.67%)\taccuracy: 100.00%  (100.00%)\tloss: 0.0001  (0.0009)\ttime: 1659ms  (1633ms)\n",
      "progress: 133/360 (36.94%)\taccuracy: 100.00%  (100.00%)\tloss: 0.0002  (0.0007)\ttime: 1589ms  (1620ms)\n",
      "progress: 134/360 (37.22%)\taccuracy: 100.00%  (100.00%)\tloss: 0.0000  (0.0005)\ttime: 1682ms  (1638ms)\n",
      "progress: 135/360 (37.50%)\taccuracy: 100.00%  (100.00%)\tloss: 0.0003  (0.0004)\ttime: 1608ms  (1629ms)\n",
      "progress: 136/360 (37.78%)\taccuracy: 100.00%  (100.00%)\tloss: 0.0085  (0.0029)\ttime: 1626ms  (1628ms)\n",
      "progress: 137/360 (38.06%)\taccuracy: 100.00%  (100.00%)\tloss: 0.0000  (0.0020)\ttime: 1638ms  (1631ms)\n",
      "progress: 138/360 (38.33%)\taccuracy: 100.00%  (100.00%)\tloss: 0.0000  (0.0014)\ttime: 1620ms  (1628ms)\n",
      "progress: 139/360 (38.61%)\taccuracy: 100.00%  (100.00%)\tloss: 0.0001  (0.0010)\ttime: 1643ms  (1632ms)\n",
      "progress: 140/360 (38.89%)\taccuracy: 100.00%  (100.00%)\tloss: 0.0001  (0.0007)\ttime: 1619ms  (1628ms)\n",
      "progress: 141/360 (39.17%)\taccuracy: 100.00%  (100.00%)\tloss: 0.0036  (0.0016)\ttime: 1623ms  (1627ms)\n",
      "progress: 142/360 (39.44%)\taccuracy: 100.00%  (100.00%)\tloss: 0.0004  (0.0012)\ttime: 1606ms  (1621ms)\n",
      "progress: 143/360 (39.72%)\taccuracy: 100.00%  (100.00%)\tloss: 0.0001  (0.0009)\ttime: 1635ms  (1625ms)\n",
      "progress: 144/360 (40.00%)\taccuracy: 100.00%  (100.00%)\tloss: 0.0000  (0.0006)\ttime: 1651ms  (1633ms)\n",
      "progress: 145/360 (40.28%)\taccuracy: 100.00%  (100.00%)\tloss: 0.0000  (0.0004)\ttime: 1620ms  (1629ms)\n",
      "progress: 146/360 (40.56%)\taccuracy: 100.00%  (100.00%)\tloss: 0.0008  (0.0005)\ttime: 1643ms  (1633ms)\n",
      "progress: 147/360 (40.83%)\taccuracy: 100.00%  (100.00%)\tloss: 0.0002  (0.0004)\ttime: 1614ms  (1627ms)\n",
      "progress: 148/360 (41.11%)\taccuracy: 100.00%  (100.00%)\tloss: 0.0007  (0.0005)\ttime: 1598ms  (1619ms)\n",
      "progress: 149/360 (41.39%)\taccuracy: 100.00%  (100.00%)\tloss: 0.0000  (0.0004)\ttime: 1619ms  (1619ms)\n",
      "progress: 150/360 (41.67%)\taccuracy: 100.00%  (100.00%)\tloss: 0.0003  (0.0004)\ttime: 1623ms  (1620ms)\n",
      "progress: 151/360 (41.94%)\taccuracy: 100.00%  (100.00%)\tloss: 0.0000  (0.0003)\ttime: 1646ms  (1628ms)\n",
      "progress: 152/360 (42.22%)\taccuracy: 100.00%  (100.00%)\tloss: 0.0004  (0.0003)\ttime: 1612ms  (1623ms)\n",
      "progress: 153/360 (42.50%)\taccuracy: 100.00%  (100.00%)\tloss: 0.0003  (0.0003)\ttime: 1609ms  (1619ms)\n",
      "progress: 154/360 (42.78%)\taccuracy: 100.00%  (100.00%)\tloss: 0.0000  (0.0002)\ttime: 1660ms  (1631ms)\n",
      "progress: 155/360 (43.06%)\taccuracy: 100.00%  (100.00%)\tloss: 0.0034  (0.0012)\ttime: 1617ms  (1627ms)\n",
      "progress: 156/360 (43.33%)\taccuracy: 100.00%  (100.00%)\tloss: 0.0003  (0.0009)\ttime: 1649ms  (1633ms)\n",
      "progress: 157/360 (43.61%)\taccuracy: 100.00%  (100.00%)\tloss: 0.0026  (0.0014)\ttime: 1635ms  (1634ms)\n",
      "progress: 158/360 (43.89%)\taccuracy: 100.00%  (100.00%)\tloss: 0.0002  (0.0011)\ttime: 1631ms  (1633ms)\n",
      "progress: 159/360 (44.17%)\taccuracy: 100.00%  (100.00%)\tloss: 0.0042  (0.0020)\ttime: 1649ms  (1638ms)\n",
      "progress: 160/360 (44.44%)\taccuracy: 100.00%  (100.00%)\tloss: 0.0030  (0.0023)\ttime: 1572ms  (1618ms)\n",
      "progress: 161/360 (44.72%)\taccuracy: 100.00%  (100.00%)\tloss: 0.0004  (0.0017)\ttime: 1623ms  (1620ms)\n",
      "progress: 162/360 (45.00%)\taccuracy: 100.00%  (100.00%)\tloss: 0.0002  (0.0013)\ttime: 1607ms  (1616ms)\n",
      "progress: 163/360 (45.28%)\taccuracy: 100.00%  (100.00%)\tloss: 0.0030  (0.0018)\ttime: 1637ms  (1622ms)\n",
      "progress: 164/360 (45.56%)\taccuracy: 100.00%  (100.00%)\tloss: 0.0001  (0.0013)\ttime: 1617ms  (1621ms)\n",
      "progress: 165/360 (45.83%)\taccuracy: 100.00%  (100.00%)\tloss: 0.0001  (0.0009)\ttime: 1641ms  (1627ms)\n",
      "progress: 166/360 (46.11%)\taccuracy: 100.00%  (100.00%)\tloss: 0.0004  (0.0008)\ttime: 1595ms  (1617ms)\n",
      "progress: 167/360 (46.39%)\taccuracy: 100.00%  (100.00%)\tloss: 0.0005  (0.0007)\ttime: 1611ms  (1615ms)\n",
      "progress: 168/360 (46.67%)\taccuracy: 100.00%  (100.00%)\tloss: 0.0002  (0.0005)\ttime: 1606ms  (1613ms)\n",
      "progress: 169/360 (46.94%)\taccuracy: 100.00%  (100.00%)\tloss: 0.0037  (0.0015)\ttime: 1576ms  (1602ms)\n",
      "progress: 170/360 (47.22%)\taccuracy: 100.00%  (100.00%)\tloss: 0.0001  (0.0011)\ttime: 1584ms  (1596ms)\n",
      "progress: 171/360 (47.50%)\taccuracy: 100.00%  (100.00%)\tloss: 0.0003  (0.0008)\ttime: 1628ms  (1606ms)\n",
      "progress: 172/360 (47.78%)\taccuracy: 100.00%  (100.00%)\tloss: 0.0000  (0.0006)\ttime: 1644ms  (1617ms)\n",
      "progress: 173/360 (48.06%)\taccuracy: 100.00%  (100.00%)\tloss: 0.0000  (0.0004)\ttime: 1598ms  (1612ms)\n",
      "progress: 174/360 (48.33%)\taccuracy: 100.00%  (100.00%)\tloss: 0.0000  (0.0003)\ttime: 1600ms  (1608ms)\n",
      "progress: 175/360 (48.61%)\taccuracy: 100.00%  (100.00%)\tloss: 0.0000  (0.0002)\ttime: 1613ms  (1610ms)\n",
      "progress: 176/360 (48.89%)\taccuracy: 100.00%  (100.00%)\tloss: 0.0004  (0.0003)\ttime: 1611ms  (1610ms)\n",
      "progress: 177/360 (49.17%)\taccuracy: 100.00%  (100.00%)\tloss: 0.0009  (0.0005)\ttime: 1615ms  (1612ms)\n",
      "progress: 178/360 (49.44%)\taccuracy: 100.00%  (100.00%)\tloss: 0.0002  (0.0004)\ttime: 1630ms  (1617ms)\n",
      "progress: 179/360 (49.72%)\taccuracy: 100.00%  (100.00%)\tloss: 0.0000  (0.0003)\ttime: 1597ms  (1611ms)\n",
      "progress: 180/360 (50.00%)\taccuracy: 100.00%  (100.00%)\tloss: 0.0018  (0.0007)\ttime: 1609ms  (1610ms)\n",
      "progress: 181/360 (50.28%)\taccuracy: 100.00%  (100.00%)\tloss: 0.0009  (0.0008)\ttime: 1570ms  (1598ms)\n",
      "progress: 182/360 (50.56%)\taccuracy: 100.00%  (100.00%)\tloss: 0.0003  (0.0006)\ttime: 1610ms  (1602ms)\n",
      "progress: 183/360 (50.83%)\taccuracy: 100.00%  (100.00%)\tloss: 0.0000  (0.0004)\ttime: 1595ms  (1600ms)\n",
      "progress: 184/360 (51.11%)\taccuracy: 100.00%  (100.00%)\tloss: 0.0001  (0.0003)\ttime: 1584ms  (1595ms)\n",
      "progress: 185/360 (51.39%)\taccuracy: 100.00%  (100.00%)\tloss: 0.0001  (0.0003)\ttime: 1632ms  (1606ms)\n",
      "progress: 186/360 (51.67%)\taccuracy: 100.00%  (100.00%)\tloss: 0.0005  (0.0003)\ttime: 1598ms  (1604ms)\n",
      "progress: 187/360 (51.94%)\taccuracy: 100.00%  (100.00%)\tloss: 0.0018  (0.0008)\ttime: 1632ms  (1612ms)\n",
      "progress: 188/360 (52.22%)\taccuracy: 100.00%  (100.00%)\tloss: 0.0001  (0.0006)\ttime: 1600ms  (1608ms)\n",
      "progress: 189/360 (52.50%)\taccuracy: 100.00%  (100.00%)\tloss: 0.0001  (0.0004)\ttime: 1643ms  (1619ms)\n",
      "progress: 190/360 (52.78%)\taccuracy: 100.00%  (100.00%)\tloss: 0.0005  (0.0005)\ttime: 1616ms  (1618ms)\n",
      "progress: 191/360 (53.06%)\taccuracy: 100.00%  (100.00%)\tloss: 0.0011  (0.0006)\ttime: 1622ms  (1619ms)\n",
      "progress: 192/360 (53.33%)\taccuracy: 100.00%  (100.00%)\tloss: 0.0000  (0.0005)\ttime: 1637ms  (1625ms)\n",
      "progress: 193/360 (53.61%)\taccuracy: 98.44%   (99.53%) \tloss: 0.0125  (0.0041)\ttime: 1636ms  (1628ms)\n",
      "progress: 194/360 (53.89%)\taccuracy: 100.00%  (99.67%) \tloss: 0.0001  (0.0029)\ttime: 1605ms  (1621ms)\n",
      "progress: 195/360 (54.17%)\taccuracy: 100.00%  (99.77%) \tloss: 0.0010  (0.0023)\ttime: 1625ms  (1622ms)\n",
      "progress: 196/360 (54.44%)\taccuracy: 100.00%  (99.84%) \tloss: 0.0009  (0.0019)\ttime: 1652ms  (1631ms)\n",
      "progress: 197/360 (54.72%)\taccuracy: 100.00%  (99.89%) \tloss: 0.0029  (0.0022)\ttime: 1624ms  (1629ms)\n",
      "progress: 198/360 (55.00%)\taccuracy: 100.00%  (99.92%) \tloss: 0.0002  (0.0016)\ttime: 1591ms  (1618ms)\n",
      "progress: 199/360 (55.28%)\taccuracy: 100.00%  (99.94%) \tloss: 0.0000  (0.0011)\ttime: 1628ms  (1621ms)\n",
      "progress: 200/360 (55.56%)\taccuracy: 100.00%  (99.96%) \tloss: 0.0024  (0.0015)\ttime: 1671ms  (1636ms)\n",
      "progress: 201/360 (55.83%)\taccuracy: 100.00%  (99.97%) \tloss: 0.0001  (0.0011)\ttime: 1736ms  (1666ms)\n",
      "progress: 202/360 (56.11%)\taccuracy: 100.00%  (99.98%) \tloss: 0.0008  (0.0010)\ttime: 1630ms  (1655ms)\n",
      "progress: 203/360 (56.39%)\taccuracy: 100.00%  (99.99%) \tloss: 0.0002  (0.0008)\ttime: 1617ms  (1644ms)\n",
      "progress: 204/360 (56.67%)\taccuracy: 100.00%  (99.99%) \tloss: 0.0005  (0.0007)\ttime: 1596ms  (1629ms)\n",
      "progress: 205/360 (56.94%)\taccuracy: 100.00%  (99.99%) \tloss: 0.0037  (0.0016)\ttime: 1665ms  (1640ms)\n",
      "progress: 206/360 (57.22%)\taccuracy: 100.00%  (100.00%)\tloss: 0.0007  (0.0013)\ttime: 1629ms  (1637ms)\n",
      "progress: 207/360 (57.50%)\taccuracy: 100.00%  (100.00%)\tloss: 0.0002  (0.0010)\ttime: 1645ms  (1639ms)\n",
      "progress: 208/360 (57.78%)\taccuracy: 100.00%  (100.00%)\tloss: 0.0001  (0.0007)\ttime: 1595ms  (1626ms)\n",
      "progress: 209/360 (58.06%)\taccuracy: 100.00%  (100.00%)\tloss: 0.0001  (0.0005)\ttime: 1596ms  (1617ms)\n",
      "progress: 210/360 (58.33%)\taccuracy: 100.00%  (100.00%)\tloss: 0.0006  (0.0006)\ttime: 1573ms  (1604ms)\n",
      "progress: 211/360 (58.61%)\taccuracy: 100.00%  (100.00%)\tloss: 0.0000  (0.0004)\ttime: 1631ms  (1612ms)\n",
      "progress: 212/360 (58.89%)\taccuracy: 100.00%  (100.00%)\tloss: 0.0000  (0.0003)\ttime: 1566ms  (1598ms)\n",
      "progress: 213/360 (59.17%)\taccuracy: 100.00%  (100.00%)\tloss: 0.0001  (0.0002)\ttime: 1635ms  (1609ms)\n",
      "progress: 214/360 (59.44%)\taccuracy: 100.00%  (100.00%)\tloss: 0.0018  (0.0007)\ttime: 1619ms  (1612ms)\n",
      "progress: 215/360 (59.72%)\taccuracy: 100.00%  (100.00%)\tloss: 0.0018  (0.0010)\ttime: 1592ms  (1606ms)\n",
      "progress: 216/360 (60.00%)\taccuracy: 100.00%  (100.00%)\tloss: 0.0000  (0.0007)\ttime: 1630ms  (1613ms)\n",
      "progress: 217/360 (60.28%)\taccuracy: 100.00%  (100.00%)\tloss: 0.0001  (0.0005)\ttime: 1610ms  (1612ms)\n",
      "progress: 218/360 (60.56%)\taccuracy: 100.00%  (100.00%)\tloss: 0.0000  (0.0004)\ttime: 1591ms  (1606ms)\n",
      "progress: 219/360 (60.83%)\taccuracy: 100.00%  (100.00%)\tloss: 0.0000  (0.0003)\ttime: 1618ms  (1610ms)\n",
      "progress: 220/360 (61.11%)\taccuracy: 100.00%  (100.00%)\tloss: 0.0000  (0.0002)\ttime: 1595ms  (1605ms)\n",
      "progress: 221/360 (61.39%)\taccuracy: 100.00%  (100.00%)\tloss: 0.0016  (0.0006)\ttime: 1627ms  (1612ms)\n",
      "progress: 222/360 (61.67%)\taccuracy: 96.88%   (99.06%) \tloss: 0.1037  (0.0315)\ttime: 1599ms  (1608ms)\n",
      "progress: 223/360 (61.94%)\taccuracy: 100.00%  (99.34%) \tloss: 0.0000  (0.0221)\ttime: 1623ms  (1613ms)\n",
      "progress: 224/360 (62.22%)\taccuracy: 100.00%  (99.54%) \tloss: 0.0000  (0.0155)\ttime: 1602ms  (1610ms)\n",
      "progress: 225/360 (62.50%)\taccuracy: 100.00%  (99.68%) \tloss: 0.0004  (0.0109)\ttime: 1604ms  (1608ms)\n",
      "progress: 226/360 (62.78%)\taccuracy: 100.00%  (99.77%) \tloss: 0.0003  (0.0078)\ttime: 1617ms  (1611ms)\n",
      "progress: 227/360 (63.06%)\taccuracy: 100.00%  (99.84%) \tloss: 0.0008  (0.0057)\ttime: 1637ms  (1619ms)\n",
      "progress: 228/360 (63.33%)\taccuracy: 100.00%  (99.89%) \tloss: 0.0001  (0.0040)\ttime: 1588ms  (1609ms)\n",
      "progress: 229/360 (63.61%)\taccuracy: 100.00%  (99.92%) \tloss: 0.0000  (0.0028)\ttime: 1608ms  (1609ms)\n",
      "progress: 230/360 (63.89%)\taccuracy: 100.00%  (99.95%) \tloss: 0.0004  (0.0021)\ttime: 1589ms  (1603ms)\n",
      "progress: 231/360 (64.17%)\taccuracy: 100.00%  (99.96%) \tloss: 0.0008  (0.0017)\ttime: 1638ms  (1613ms)\n",
      "progress: 232/360 (64.44%)\taccuracy: 100.00%  (99.97%) \tloss: 0.0001  (0.0012)\ttime: 1595ms  (1608ms)\n",
      "progress: 233/360 (64.72%)\taccuracy: 100.00%  (99.98%) \tloss: 0.0001  (0.0009)\ttime: 1598ms  (1605ms)\n",
      "progress: 234/360 (65.00%)\taccuracy: 100.00%  (99.99%) \tloss: 0.0001  (0.0006)\ttime: 1604ms  (1605ms)\n",
      "progress: 235/360 (65.28%)\taccuracy: 100.00%  (99.99%) \tloss: 0.0003  (0.0006)\ttime: 1608ms  (1606ms)\n",
      "progress: 236/360 (65.56%)\taccuracy: 100.00%  (99.99%) \tloss: 0.0008  (0.0006)\ttime: 1639ms  (1616ms)\n",
      "progress: 237/360 (65.83%)\taccuracy: 100.00%  (100.00%)\tloss: 0.0087  (0.0030)\ttime: 1583ms  (1606ms)\n",
      "progress: 238/360 (66.11%)\taccuracy: 100.00%  (100.00%)\tloss: 0.0002  (0.0022)\ttime: 1600ms  (1604ms)\n",
      "progress: 239/360 (66.39%)\taccuracy: 100.00%  (100.00%)\tloss: 0.0006  (0.0017)\ttime: 1581ms  (1597ms)\n",
      "progress: 240/360 (66.67%)\taccuracy: 100.00%  (100.00%)\tloss: 0.0000  (0.0012)\ttime: 1621ms  (1604ms)\n",
      "progress: 241/360 (66.94%)\taccuracy: 100.00%  (100.00%)\tloss: 0.0000  (0.0009)\ttime: 1614ms  (1607ms)\n",
      "progress: 242/360 (67.22%)\taccuracy: 100.00%  (100.00%)\tloss: 0.0000  (0.0006)\ttime: 1633ms  (1615ms)\n",
      "progress: 243/360 (67.50%)\taccuracy: 100.00%  (100.00%)\tloss: 0.0002  (0.0005)\ttime: 1619ms  (1616ms)\n",
      "progress: 244/360 (67.78%)\taccuracy: 100.00%  (100.00%)\tloss: 0.0000  (0.0003)\ttime: 1670ms  (1632ms)\n",
      "progress: 245/360 (68.06%)\taccuracy: 100.00%  (100.00%)\tloss: 0.0001  (0.0003)\ttime: 1651ms  (1638ms)\n",
      "progress: 246/360 (68.33%)\taccuracy: 100.00%  (100.00%)\tloss: 0.0030  (0.0011)\ttime: 1608ms  (1629ms)\n",
      "progress: 247/360 (68.61%)\taccuracy: 98.44%   (99.53%) \tloss: 0.0678  (0.0211)\ttime: 1604ms  (1621ms)\n",
      "progress: 248/360 (68.89%)\taccuracy: 100.00%  (99.67%) \tloss: 0.0000  (0.0148)\ttime: 1642ms  (1627ms)\n",
      "progress: 249/360 (69.17%)\taccuracy: 98.44%   (99.30%) \tloss: 0.0311  (0.0197)\ttime: 1674ms  (1641ms)\n",
      "progress: 250/360 (69.44%)\taccuracy: 100.00%  (99.51%) \tloss: 0.0000  (0.0138)\ttime: 1610ms  (1632ms)\n",
      "progress: 251/360 (69.72%)\taccuracy: 100.00%  (99.66%) \tloss: 0.0002  (0.0097)\ttime: 1612ms  (1626ms)\n",
      "progress: 252/360 (70.00%)\taccuracy: 100.00%  (99.76%) \tloss: 0.0022  (0.0074)\ttime: 1606ms  (1620ms)\n",
      "progress: 253/360 (70.28%)\taccuracy: 100.00%  (99.83%) \tloss: 0.0002  (0.0053)\ttime: 1607ms  (1616ms)\n",
      "progress: 254/360 (70.56%)\taccuracy: 100.00%  (99.88%) \tloss: 0.0001  (0.0037)\ttime: 1645ms  (1625ms)\n",
      "progress: 255/360 (70.83%)\taccuracy: 100.00%  (99.92%) \tloss: 0.0005  (0.0028)\ttime: 1612ms  (1621ms)\n",
      "progress: 256/360 (71.11%)\taccuracy: 100.00%  (99.94%) \tloss: 0.0001  (0.0019)\ttime: 1605ms  (1616ms)\n",
      "progress: 257/360 (71.39%)\taccuracy: 98.44%   (99.49%) \tloss: 0.1158  (0.0361)\ttime: 1623ms  (1618ms)\n",
      "progress: 258/360 (71.67%)\taccuracy: 98.44%   (99.17%) \tloss: 0.0617  (0.0438)\ttime: 1655ms  (1629ms)\n",
      "progress: 259/360 (71.94%)\taccuracy: 100.00%  (99.42%) \tloss: 0.0000  (0.0307)\ttime: 1597ms  (1620ms)\n",
      "progress: 260/360 (72.22%)\taccuracy: 100.00%  (99.60%) \tloss: 0.0002  (0.0215)\ttime: 1601ms  (1614ms)\n",
      "progress: 261/360 (72.50%)\taccuracy: 100.00%  (99.72%) \tloss: 0.0016  (0.0155)\ttime: 1620ms  (1616ms)\n",
      "progress: 262/360 (72.78%)\taccuracy: 100.00%  (99.80%) \tloss: 0.0011  (0.0112)\ttime: 1607ms  (1613ms)\n",
      "progress: 263/360 (73.06%)\taccuracy: 100.00%  (99.86%) \tloss: 0.0000  (0.0078)\ttime: 1604ms  (1610ms)\n",
      "progress: 264/360 (73.33%)\taccuracy: 100.00%  (99.90%) \tloss: 0.0001  (0.0055)\ttime: 1617ms  (1612ms)\n",
      "progress: 265/360 (73.61%)\taccuracy: 100.00%  (99.93%) \tloss: 0.0108  (0.0071)\ttime: 1602ms  (1609ms)\n",
      "progress: 266/360 (73.89%)\taccuracy: 100.00%  (99.95%) \tloss: 0.0012  (0.0053)\ttime: 1639ms  (1618ms)\n",
      "progress: 267/360 (74.17%)\taccuracy: 100.00%  (99.97%) \tloss: 0.0006  (0.0039)\ttime: 1623ms  (1620ms)\n",
      "progress: 268/360 (74.44%)\taccuracy: 100.00%  (99.98%) \tloss: 0.0006  (0.0029)\ttime: 1614ms  (1618ms)\n",
      "progress: 269/360 (74.72%)\taccuracy: 100.00%  (99.98%) \tloss: 0.0060  (0.0038)\ttime: 1600ms  (1613ms)\n",
      "progress: 270/360 (75.00%)\taccuracy: 100.00%  (99.99%) \tloss: 0.0004  (0.0028)\ttime: 1606ms  (1611ms)\n",
      "progress: 271/360 (75.28%)\taccuracy: 100.00%  (99.99%) \tloss: 0.0001  (0.0020)\ttime: 1669ms  (1628ms)\n",
      "progress: 272/360 (75.56%)\taccuracy: 100.00%  (99.99%) \tloss: 0.0001  (0.0014)\ttime: 1615ms  (1624ms)\n",
      "progress: 273/360 (75.83%)\taccuracy: 100.00%  (100.00%)\tloss: 0.0005  (0.0012)\ttime: 1626ms  (1625ms)\n",
      "progress: 274/360 (76.11%)\taccuracy: 100.00%  (100.00%)\tloss: 0.0000  (0.0008)\ttime: 1612ms  (1621ms)\n",
      "progress: 275/360 (76.39%)\taccuracy: 100.00%  (100.00%)\tloss: 0.0005  (0.0007)\ttime: 1630ms  (1624ms)\n",
      "progress: 276/360 (76.67%)\taccuracy: 100.00%  (100.00%)\tloss: 0.0019  (0.0011)\ttime: 1622ms  (1623ms)\n",
      "progress: 277/360 (76.94%)\taccuracy: 100.00%  (100.00%)\tloss: 0.0011  (0.0011)\ttime: 1569ms  (1607ms)\n",
      "progress: 278/360 (77.22%)\taccuracy: 100.00%  (100.00%)\tloss: 0.0009  (0.0010)\ttime: 1615ms  (1609ms)\n",
      "progress: 279/360 (77.50%)\taccuracy: 100.00%  (100.00%)\tloss: 0.0001  (0.0007)\ttime: 1596ms  (1605ms)\n",
      "progress: 280/360 (77.78%)\taccuracy: 98.44%   (99.53%) \tloss: 0.1264  (0.0384)\ttime: 1630ms  (1613ms)\n",
      "progress: 281/360 (78.06%)\taccuracy: 100.00%  (99.67%) \tloss: 0.0001  (0.0269)\ttime: 1602ms  (1609ms)\n",
      "progress: 282/360 (78.33%)\taccuracy: 100.00%  (99.77%) \tloss: 0.0001  (0.0189)\ttime: 1622ms  (1613ms)\n",
      "progress: 283/360 (78.61%)\taccuracy: 100.00%  (99.84%) \tloss: 0.0023  (0.0139)\ttime: 1628ms  (1618ms)\n",
      "progress: 284/360 (78.89%)\taccuracy: 100.00%  (99.89%) \tloss: 0.0000  (0.0097)\ttime: 1608ms  (1615ms)\n",
      "progress: 285/360 (79.17%)\taccuracy: 100.00%  (99.92%) \tloss: 0.0003  (0.0069)\ttime: 1602ms  (1611ms)\n",
      "progress: 286/360 (79.44%)\taccuracy: 100.00%  (99.94%) \tloss: 0.0000  (0.0048)\ttime: 1625ms  (1615ms)\n",
      "progress: 287/360 (79.72%)\taccuracy: 100.00%  (99.96%) \tloss: 0.0000  (0.0034)\ttime: 1605ms  (1612ms)\n",
      "progress: 288/360 (80.00%)\taccuracy: 100.00%  (99.97%) \tloss: 0.0022  (0.0030)\ttime: 1656ms  (1625ms)\n",
      "progress: 289/360 (80.28%)\taccuracy: 100.00%  (99.98%) \tloss: 0.0000  (0.0021)\ttime: 1638ms  (1629ms)\n",
      "progress: 290/360 (80.56%)\taccuracy: 100.00%  (99.99%) \tloss: 0.0001  (0.0015)\ttime: 1626ms  (1628ms)\n",
      "progress: 291/360 (80.83%)\taccuracy: 100.00%  (99.99%) \tloss: 0.0006  (0.0012)\ttime: 1612ms  (1623ms)\n",
      "progress: 292/360 (81.11%)\taccuracy: 98.44%   (99.52%) \tloss: 0.0275  (0.0091)\ttime: 1627ms  (1625ms)\n",
      "progress: 293/360 (81.39%)\taccuracy: 100.00%  (99.67%) \tloss: 0.0000  (0.0064)\ttime: 1596ms  (1616ms)\n",
      "progress: 294/360 (81.67%)\taccuracy: 100.00%  (99.77%) \tloss: 0.0006  (0.0047)\ttime: 1598ms  (1611ms)\n",
      "progress: 295/360 (81.94%)\taccuracy: 100.00%  (99.84%) \tloss: 0.0005  (0.0034)\ttime: 1652ms  (1623ms)\n",
      "progress: 296/360 (82.22%)\taccuracy: 100.00%  (99.89%) \tloss: 0.0001  (0.0024)\ttime: 1624ms  (1623ms)\n",
      "progress: 297/360 (82.50%)\taccuracy: 100.00%  (99.92%) \tloss: 0.0000  (0.0017)\ttime: 1610ms  (1619ms)\n",
      "progress: 298/360 (82.78%)\taccuracy: 100.00%  (99.94%) \tloss: 0.0012  (0.0015)\ttime: 1609ms  (1616ms)\n",
      "progress: 299/360 (83.06%)\taccuracy: 100.00%  (99.96%) \tloss: 0.0000  (0.0011)\ttime: 1606ms  (1613ms)\n",
      "progress: 300/360 (83.33%)\taccuracy: 100.00%  (99.97%) \tloss: 0.0008  (0.0010)\ttime: 1615ms  (1614ms)\n",
      "progress: 301/360 (83.61%)\taccuracy: 100.00%  (99.98%) \tloss: 0.0011  (0.0010)\ttime: 1634ms  (1620ms)\n",
      "progress: 302/360 (83.89%)\taccuracy: 100.00%  (99.99%) \tloss: 0.0008  (0.0010)\ttime: 1620ms  (1620ms)\n",
      "progress: 303/360 (84.17%)\taccuracy: 100.00%  (99.99%) \tloss: 0.0033  (0.0017)\ttime: 1627ms  (1622ms)\n",
      "progress: 304/360 (84.44%)\taccuracy: 100.00%  (99.99%) \tloss: 0.0026  (0.0019)\ttime: 1595ms  (1614ms)\n",
      "progress: 305/360 (84.72%)\taccuracy: 100.00%  (100.00%)\tloss: 0.0011  (0.0017)\ttime: 1625ms  (1617ms)\n",
      "progress: 306/360 (85.00%)\taccuracy: 100.00%  (100.00%)\tloss: 0.0001  (0.0012)\ttime: 1638ms  (1623ms)\n",
      "progress: 307/360 (85.28%)\taccuracy: 100.00%  (100.00%)\tloss: 0.0000  (0.0008)\ttime: 1604ms  (1618ms)\n",
      "progress: 308/360 (85.56%)\taccuracy: 100.00%  (100.00%)\tloss: 0.0000  (0.0006)\ttime: 1603ms  (1613ms)\n",
      "progress: 309/360 (85.83%)\taccuracy: 100.00%  (100.00%)\tloss: 0.0023  (0.0011)\ttime: 1582ms  (1604ms)\n",
      "progress: 310/360 (86.11%)\taccuracy: 100.00%  (100.00%)\tloss: 0.0000  (0.0008)\ttime: 1671ms  (1624ms)\n",
      "progress: 311/360 (86.39%)\taccuracy: 100.00%  (100.00%)\tloss: 0.0001  (0.0006)\ttime: 1608ms  (1619ms)\n",
      "progress: 312/360 (86.67%)\taccuracy: 100.00%  (100.00%)\tloss: 0.0004  (0.0005)\ttime: 1606ms  (1615ms)\n",
      "progress: 313/360 (86.94%)\taccuracy: 100.00%  (100.00%)\tloss: 0.0018  (0.0009)\ttime: 1601ms  (1611ms)\n",
      "progress: 314/360 (87.22%)\taccuracy: 100.00%  (100.00%)\tloss: 0.0002  (0.0007)\ttime: 1594ms  (1606ms)\n",
      "progress: 315/360 (87.50%)\taccuracy: 100.00%  (100.00%)\tloss: 0.0005  (0.0006)\ttime: 1585ms  (1600ms)\n",
      "progress: 316/360 (87.78%)\taccuracy: 100.00%  (100.00%)\tloss: 0.0004  (0.0006)\ttime: 1626ms  (1608ms)\n",
      "progress: 317/360 (88.06%)\taccuracy: 100.00%  (100.00%)\tloss: 0.0024  (0.0011)\ttime: 1606ms  (1607ms)\n",
      "progress: 318/360 (88.33%)\taccuracy: 100.00%  (100.00%)\tloss: 0.0007  (0.0010)\ttime: 1636ms  (1616ms)\n",
      "progress: 319/360 (88.61%)\taccuracy: 100.00%  (100.00%)\tloss: 0.0003  (0.0008)\ttime: 1609ms  (1614ms)\n",
      "progress: 320/360 (88.89%)\taccuracy: 98.44%   (99.53%) \tloss: 0.0209  (0.0068)\ttime: 1631ms  (1619ms)\n",
      "progress: 321/360 (89.17%)\taccuracy: 100.00%  (99.67%) \tloss: 0.0000  (0.0048)\ttime: 1612ms  (1617ms)\n",
      "progress: 322/360 (89.44%)\taccuracy: 100.00%  (99.77%) \tloss: 0.0001  (0.0034)\ttime: 1626ms  (1619ms)\n",
      "progress: 323/360 (89.72%)\taccuracy: 100.00%  (99.84%) \tloss: 0.0008  (0.0026)\ttime: 1649ms  (1628ms)\n",
      "progress: 324/360 (90.00%)\taccuracy: 100.00%  (99.89%) \tloss: 0.0003  (0.0019)\ttime: 1616ms  (1624ms)\n",
      "progress: 325/360 (90.28%)\taccuracy: 100.00%  (99.92%) \tloss: 0.0017  (0.0019)\ttime: 1633ms  (1627ms)\n",
      "progress: 326/360 (90.56%)\taccuracy: 100.00%  (99.94%) \tloss: 0.0009  (0.0016)\ttime: 1634ms  (1629ms)\n",
      "progress: 327/360 (90.83%)\taccuracy: 100.00%  (99.96%) \tloss: 0.0002  (0.0012)\ttime: 1610ms  (1623ms)\n",
      "progress: 328/360 (91.11%)\taccuracy: 100.00%  (99.97%) \tloss: 0.0084  (0.0033)\ttime: 1618ms  (1622ms)\n",
      "progress: 329/360 (91.39%)\taccuracy: 100.00%  (99.98%) \tloss: 0.0004  (0.0024)\ttime: 1608ms  (1618ms)\n",
      "progress: 330/360 (91.67%)\taccuracy: 98.44%   (99.52%) \tloss: 0.0182  (0.0072)\ttime: 1600ms  (1612ms)\n",
      "progress: 331/360 (91.94%)\taccuracy: 100.00%  (99.66%) \tloss: 0.0002  (0.0051)\ttime: 1586ms  (1604ms)\n",
      "progress: 332/360 (92.22%)\taccuracy: 100.00%  (99.76%) \tloss: 0.0004  (0.0037)\ttime: 1599ms  (1603ms)\n",
      "progress: 333/360 (92.50%)\taccuracy: 100.00%  (99.83%) \tloss: 0.0013  (0.0030)\ttime: 1613ms  (1606ms)\n",
      "progress: 334/360 (92.78%)\taccuracy: 100.00%  (99.88%) \tloss: 0.0061  (0.0039)\ttime: 1618ms  (1610ms)\n",
      "progress: 335/360 (93.06%)\taccuracy: 100.00%  (99.92%) \tloss: 0.0000  (0.0027)\ttime: 1610ms  (1610ms)\n",
      "progress: 336/360 (93.33%)\taccuracy: 100.00%  (99.94%) \tloss: 0.0013  (0.0023)\ttime: 1587ms  (1603ms)\n",
      "progress: 337/360 (93.61%)\taccuracy: 100.00%  (99.96%) \tloss: 0.0001  (0.0016)\ttime: 1594ms  (1600ms)\n",
      "progress: 338/360 (93.89%)\taccuracy: 100.00%  (99.97%) \tloss: 0.0038  (0.0023)\ttime: 1624ms  (1607ms)\n",
      "progress: 339/360 (94.17%)\taccuracy: 100.00%  (99.98%) \tloss: 0.0000  (0.0016)\ttime: 1665ms  (1625ms)\n",
      "progress: 340/360 (94.44%)\taccuracy: 100.00%  (99.99%) \tloss: 0.0021  (0.0018)\ttime: 1591ms  (1614ms)\n",
      "progress: 341/360 (94.72%)\taccuracy: 100.00%  (99.99%) \tloss: 0.0008  (0.0015)\ttime: 1612ms  (1614ms)\n",
      "progress: 342/360 (95.00%)\taccuracy: 100.00%  (99.99%) \tloss: 0.0042  (0.0023)\ttime: 1636ms  (1620ms)\n",
      "progress: 343/360 (95.28%)\taccuracy: 100.00%  (100.00%)\tloss: 0.0015  (0.0020)\ttime: 1607ms  (1616ms)\n",
      "progress: 344/360 (95.56%)\taccuracy: 100.00%  (100.00%)\tloss: 0.0006  (0.0016)\ttime: 1624ms  (1618ms)\n",
      "progress: 345/360 (95.83%)\taccuracy: 100.00%  (100.00%)\tloss: 0.0000  (0.0011)\ttime: 1614ms  (1617ms)\n",
      "progress: 346/360 (96.11%)\taccuracy: 98.44%   (99.53%) \tloss: 0.0291  (0.0095)\ttime: 1605ms  (1614ms)\n",
      "progress: 347/360 (96.39%)\taccuracy: 100.00%  (99.67%) \tloss: 0.0004  (0.0068)\ttime: 1587ms  (1606ms)\n",
      "progress: 348/360 (96.67%)\taccuracy: 100.00%  (99.77%) \tloss: 0.0001  (0.0048)\ttime: 1605ms  (1606ms)\n",
      "progress: 349/360 (96.94%)\taccuracy: 100.00%  (99.84%) \tloss: 0.0000  (0.0033)\ttime: 1653ms  (1620ms)\n",
      "progress: 350/360 (97.22%)\taccuracy: 100.00%  (99.89%) \tloss: 0.0001  (0.0024)\ttime: 1607ms  (1616ms)\n",
      "progress: 351/360 (97.50%)\taccuracy: 100.00%  (99.92%) \tloss: 0.0003  (0.0018)\ttime: 1591ms  (1609ms)\n",
      "progress: 352/360 (97.78%)\taccuracy: 100.00%  (99.94%) \tloss: 0.0004  (0.0014)\ttime: 1615ms  (1610ms)\n"
     ]
    }
   ],
   "source": [
    "t = getTrainer()\n",
    "epochs = 2\n",
    "t.run(epochs)"
   ]
  },
  {
   "cell_type": "code",
   "execution_count": null,
   "metadata": {
    "collapsed": true
   },
   "outputs": [],
   "source": [
    "optimizer = optim.SGD(model.classifier.parameters(), lr=1e-3, momentum=0.9) # 4 epochs, then switched to 1e-3 for 3 epochs\n",
    "t = getTrainer()\n",
    "epochs = 2\n",
    "t.run(epochs)"
   ]
  },
  {
   "cell_type": "code",
   "execution_count": 11,
   "metadata": {
    "collapsed": false,
    "deletable": true,
    "editable": true
   },
   "outputs": [],
   "source": [
    "# Define some helper functions\n",
    "\n",
    "def denorm(tensor):\n",
    "    # Undo the image normalization + clamp between 0 and 1 to avoid image artifacts\n",
    "    for t, m, s in zip(tensor, [0.485, 0.456, 0.406], [0.229, 0.224, 0.225]): \n",
    "        t.mul_(s).add_(m).clamp_(0, 1)\n",
    "    return tensor\n",
    "\n",
    "def get_images_to_plot(images_tensor):\n",
    "    denormalize = transforms.Compose([\n",
    "        transforms.Lambda(denorm)\n",
    "    ])\n",
    "    return denormalize(images_tensor)\n",
    "\n",
    "def get_classes_strings(classes, labels_ids):\n",
    "    # returns the classes in string format\n",
    "    return [classes[label_id] for label_id in labels_ids]\n",
    "\n",
    "def get_prediction_classes_ids(predictions):\n",
    "    # returns the predictions in id format\n",
    "    predictions_ids = predictions.cpu().data.numpy().argmax(1)\n",
    "    return predictions_ids\n",
    "\n",
    "def get_prediction_classes_strings(classes, predictions):\n",
    "    # returns the predictions in string format\n",
    "    return get_classes_strings(classes, get_prediction_classes_ids(predictions))"
   ]
  },
  {
   "cell_type": "code",
   "execution_count": 12,
   "metadata": {
    "collapsed": false,
    "deletable": true,
    "editable": true
   },
   "outputs": [
    {
     "name": "stdout",
     "output_type": "stream",
     "text": [
      "['dogs', 'dogs', 'cats', 'dogs']\n"
     ]
    },
    {
     "data": {
      "image/png": "[encoded data removed]",
      "text/plain": [
       "<matplotlib.figure.Figure at 0x7fa3bd6f4dd8>"
      ]
     },
     "metadata": {},
     "output_type": "display_data"
    }
   ],
   "source": [
    "# display a sample set of images and their labels\n",
    "train_loader = get_data_loader(valdir, batch_size = 4)\n",
    "images, labels = next(iter(train_loader))\n",
    "show(make_grid(get_images_to_plot(images), padding=100))\n",
    "labels_string = get_classes_strings(classes, labels.numpy())\n",
    "print(labels_string)"
   ]
  },
  {
   "cell_type": "code",
   "execution_count": 13,
   "metadata": {
    "collapsed": false,
    "deletable": true,
    "editable": true
   },
   "outputs": [
    {
     "name": "stdout",
     "output_type": "stream",
     "text": [
      "['dogs', 'dogs', 'cats', 'dogs']\n"
     ]
    }
   ],
   "source": [
    "# display the predictons for the images above\n",
    "if use_cuda:\n",
    "    images = images.cuda()\n",
    "predictions = model(Variable(images))\n",
    "predictions_string = get_prediction_classes_strings(classes, predictions)\n",
    "print(predictions_string)"
   ]
  },
  {
   "cell_type": "code",
   "execution_count": 100,
   "metadata": {
    "collapsed": false,
    "deletable": true,
    "editable": true
   },
   "outputs": [],
   "source": [
    "import sys\n",
    "\n",
    "def get_accuracy(val_loader):\n",
    "    # Process each mini-batch and accumulate all correct classifications\n",
    "    correct = 0\n",
    "    num_batches = sum(1 for b in enumerate(val_loader))\n",
    "    batches = enumerate(val_loader)\n",
    "    for i, (images, labels) in batches:\n",
    "        sys.stdout.write('\\rBatch: {:d}/{:d}'.format(i + 1, num_batches))\n",
    "        sys.stdout.flush()\n",
    "        if use_cuda:\n",
    "            images = images.cuda()\n",
    "        predictions = model(Variable(images))\n",
    "        prediction_classes_ids = torch.from_numpy(get_prediction_classes_ids(predictions))\n",
    "        correct += labels.eq(prediction_classes_ids).sum()\n",
    "    # Avoid carriage return\n",
    "    print('')\n",
    "    return 100.0 * correct / len(val_loader.dataset.imgs)"
   ]
  },
  {
   "cell_type": "code",
   "execution_count": 101,
   "metadata": {
    "collapsed": false,
    "deletable": true,
    "editable": true
   },
   "outputs": [
    {
     "name": "stdout",
     "output_type": "stream",
     "text": [
      "Batch: 32/32\n",
      "Accuracy for validation set: 98.6\n"
     ]
    }
   ],
   "source": [
    "print('Accuracy for validation set: {}'.format(get_accuracy(val_loader)))"
   ]
  },
  {
   "cell_type": "code",
   "execution_count": 94,
   "metadata": {
    "collapsed": false
   },
   "outputs": [],
   "source": [
    "import torch.nn.functional as F\n",
    "\n",
    "def predict(loader, on_batch_predictions):\n",
    "    # Process each mini-batch and accumulate all correct classifications\n",
    "    all_predictions = [] # holds probabilities for every file id\n",
    "    num_batches = sum(1 for b in enumerate(loader))\n",
    "    batches = enumerate(loader)\n",
    "    result = 0\n",
    "    for i, (images, labels) in batches:\n",
    "        sys.stdout.write('\\rBatch: {:d}/{:d}'.format(i + 1, num_batches))\n",
    "        sys.stdout.flush()\n",
    "        if use_cuda:\n",
    "            images = images.cuda()\n",
    "        predictions = model(Variable(images))\n",
    "        result = on_batch_predictions(images, labels, predictions)\n",
    "    # Avoid carriage return\n",
    "    print('')\n",
    "    return result\n",
    "\n",
    "def get_correct_predictions():\n",
    "    correct = 0\n",
    "    def count_correct_predictions(images, labels, predictions):\n",
    "        nonlocal correct\n",
    "        prediction_classes_ids = torch.from_numpy(get_prediction_classes_ids(predictions))\n",
    "        correct += labels.eq(prediction_classes_ids).sum()\n",
    "        return correct\n",
    "    return count_correct_predictions\n",
    "\n",
    "def get_all_predictions(loader):\n",
    "    num_test_images = len(testfolder.imgs)\n",
    "    all_predictions = np.empty(num_test_images, dtype=np.float_)\n",
    "    \n",
    "    image_ids = [int(path[0].rsplit('/',1)[1].replace(\".jpg\",\"\")) - 1 for path in loader.dataset.imgs]\n",
    "    # print(image_ids)\n",
    "    current_image = 0\n",
    "    \n",
    "    def append_predictions(images, labels, predictions):\n",
    "        nonlocal all_predictions\n",
    "        nonlocal current_image\n",
    "        dog_class_id = val_loader.dataset.class_to_idx['dogs']\n",
    "        # Clamp between 0.05 and 0.95 to avoid being heavily penalized on mistakes\n",
    "        predictions_prob = F.softmax(predictions).data.clamp_(0.05, 0.95)\n",
    "        batch_predictions = predictions_prob[:,dog_class_id].cpu().numpy()\n",
    "        for dog_prob in batch_predictions:\n",
    "            image_id = image_ids[current_image]\n",
    "            all_predictions[image_id] = dog_prob\n",
    "            current_image += 1\n",
    "        return all_predictions\n",
    "    return append_predictions"
   ]
  },
  {
   "cell_type": "code",
   "execution_count": 17,
   "metadata": {
    "collapsed": false
   },
   "outputs": [
    {
     "name": "stdout",
     "output_type": "stream",
     "text": [
      "Batch: 32/32\n",
      "Accuracy for validation set: 98.7\n"
     ]
    }
   ],
   "source": [
    "correct_count = predict(val_loader, get_correct_predictions())\n",
    "precision = 100.0 * correct_count / len(val_loader.dataset.imgs)\n",
    "print('Accuracy for validation set: {}'.format(precision))"
   ]
  },
  {
   "cell_type": "code",
   "execution_count": 84,
   "metadata": {
    "collapsed": true
   },
   "outputs": [],
   "source": [
    "import csv\n",
    "import sys\n",
    "\n",
    "def save_kaggle_predictions():\n",
    "    all_predictions = predict(test_loader, get_all_predictions(test_loader))\n",
    "    with open(\"data/dogscats/predictions.csv\", \"wt\") as f:\n",
    "        writer = csv.writer(f)\n",
    "        writer.writerow((\"id\",\"label\"))\n",
    "        for i, is_dog_probability in enumerate(all_predictions):\n",
    "            row = (\n",
    "                i + 1,\n",
    "                is_dog_probability\n",
    "            )\n",
    "            writer.writerow(row)"
   ]
  },
  {
   "cell_type": "code",
   "execution_count": 98,
   "metadata": {
    "collapsed": false
   },
   "outputs": [
    {
     "name": "stdout",
     "output_type": "stream",
     "text": [
      "Batch: 196/196\n"
     ]
    }
   ],
   "source": [
    "save_kaggle_predictions()"
   ]
  }
 ],
 "metadata": {
  "kernelspec": {
   "display_name": "Python 3",
   "language": "python",
   "name": "python3"
  },
  "language_info": {
   "codemirror_mode": {
    "name": "ipython",
    "version": 3
   },
   "file_extension": ".py",
   "mimetype": "text/x-python",
   "name": "python",
   "nbconvert_exporter": "python",
   "pygments_lexer": "ipython3",
   "version": "3.5.2"
  }
 },
 "nbformat": 4,
 "nbformat_minor": 2
}
