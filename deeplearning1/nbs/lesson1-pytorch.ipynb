{
 "cells": [
  {
   "cell_type": "markdown",
   "metadata": {},
   "source": [
    "# Load VGG model"
   ]
  },
  {
   "cell_type": "code",
   "execution_count": 6,
   "metadata": {
    "collapsed": false
   },
   "outputs": [],
   "source": [
    "import torch\n",
    "import torchvision.models as models\n",
    "import torchvision.transforms as transforms\n",
    "import torchvision.datasets as datasets\n",
    "from torchvision.utils import make_grid\n",
    "from PIL import Image\n",
    "import matplotlib.pyplot as plt\n",
    "import torch.nn as nn\n",
    "import torch.optim as optim\n",
    "import torch.utils.trainer as trainer\n",
    "import torch.utils.trainer.plugins\n",
    "from torch.autograd import Variable\n",
    "import numpy as np\n",
    "import os"
   ]
  },
  {
   "cell_type": "code",
   "execution_count": 2,
   "metadata": {
    "collapsed": true
   },
   "outputs": [],
   "source": [
    "%matplotlib inline\n",
    "def show(img):\n",
    "    npimg = img.numpy()\n",
    "    plt.imshow(np.transpose(npimg, (1,2,0)), interpolation='nearest')"
   ]
  },
  {
   "cell_type": "code",
   "execution_count": 3,
   "metadata": {
    "collapsed": true
   },
   "outputs": [],
   "source": [
    "#data_path = \"data/dogscats/\"\n",
    "data_path = \"data/dogscats/sample/\""
   ]
  },
  {
   "cell_type": "code",
   "execution_count": 4,
   "metadata": {
    "collapsed": true
   },
   "outputs": [],
   "source": [
    "use_cuda = torch.cuda.is_available()"
   ]
  },
  {
   "cell_type": "code",
   "execution_count": 7,
   "metadata": {
    "collapsed": false
   },
   "outputs": [],
   "source": [
    "# Data loading code\n",
    "traindir = os.path.join(data_path, 'train')\n",
    "valdir = os.path.join(data_path, 'valid')\n",
    "batch_size = 64\n",
    "\n",
    "# pytorch way of implementing fastai's get_batches, (utils.py)\n",
    "def get_data_loader(dirname, shuffle=True, batch_size = 64):\n",
    "    # pytorch's VGG requires images to be 224x224 and normalized using https://github.com/pytorch/vision#models\n",
    "    normalize = transforms.Compose([\n",
    "        transforms.Lambda(lambda img: img.resize((224, 224), Image.BILINEAR)),\n",
    "        transforms.ToTensor(),\n",
    "        transforms.Normalize(mean=[0.485, 0.456, 0.406], std=[0.229, 0.224, 0.225]),\n",
    "    ])\n",
    "    \n",
    "    image_folder = datasets.ImageFolder(dirname, normalize)\n",
    "    return torch.utils.data.DataLoader(image_folder, batch_size=batch_size, shuffle=shuffle, pin_memory=use_cuda)\n",
    "\n",
    "train_loader = get_data_loader(traindir, batch_size=batch_size)\n",
    "val_loader = get_data_loader(valdir, shuffle=False, batch_size=batch_size)"
   ]
  },
  {
   "cell_type": "code",
   "execution_count": 8,
   "metadata": {
    "collapsed": true
   },
   "outputs": [],
   "source": [
    "# Load the model\n",
    "model = models.vgg16(pretrained=True)"
   ]
  },
  {
   "cell_type": "code",
   "execution_count": 9,
   "metadata": {
    "collapsed": false
   },
   "outputs": [
    {
     "name": "stdout",
     "output_type": "stream",
     "text": [
      "Using 2 classes: ['cats', 'dogs']\n"
     ]
    }
   ],
   "source": [
    "# Finetune by replacing the last fully connected layer and freezing all network parameters\n",
    "for param in model.parameters():\n",
    "    param.requires_grad = False\n",
    "\n",
    "# Replace the last fully-connected layer matching the new class count\n",
    "classes = train_loader.dataset.classes\n",
    "num_classes = len(classes)\n",
    "print('Using {:d} classes: {}'.format(num_classes, classes))\n",
    "model.classifier = nn.Sequential(\n",
    "            nn.Linear(512 * 7 * 7, 4096),\n",
    "            nn.ReLU(True),\n",
    "            nn.Dropout(),\n",
    "            nn.Linear(4096, 4096),\n",
    "            nn.ReLU(True),\n",
    "            nn.Dropout(),\n",
    "            nn.Linear(4096, num_classes),\n",
    "        )"
   ]
  },
  {
   "cell_type": "code",
   "execution_count": 10,
   "metadata": {
    "collapsed": true
   },
   "outputs": [],
   "source": [
    "# define loss function (criterion) and optimizer\n",
    "criterion = nn.CrossEntropyLoss()\n",
    "optimizer = optim.SGD(model.classifier.parameters(), lr=1e-2, momentum=0.9)"
   ]
  },
  {
   "cell_type": "code",
   "execution_count": 11,
   "metadata": {
    "collapsed": true
   },
   "outputs": [],
   "source": [
    "# enable cuda if available\n",
    "if(use_cuda):\n",
    "    model.cuda()\n",
    "    criterion.cuda()"
   ]
  },
  {
   "cell_type": "code",
   "execution_count": 12,
   "metadata": {
    "collapsed": false
   },
   "outputs": [
    {
     "name": "stdout",
     "output_type": "stream",
     "text": [
      "progress: 64/3 (2133.33%)\taccuracy: 48.44%  (14.53%)\tloss: 0.7231  (0.2169)\ttime: 0ms  (0ms)\n",
      "progress: 128/3 (4266.67%)\taccuracy: 48.44%  (24.70%)\tloss: 0.6769  (0.3549)\ttime: 58477ms  (17543ms)\n",
      "progress: 160/3 (5333.33%)\taccuracy: 56.25%  (34.17%)\tloss: 0.5611  (0.4168)\ttime: 24795ms  (19718ms)\n",
      "################################################################################\n",
      "Epoch summary:\n",
      "accuracy: 51.04%\tloss: 0.6537\ttime: 27757ms\n",
      "################################################################################\n",
      "progress: 64/3  (2133.33%)\taccuracy: 98.44%  (53.45%)\tloss: 0.2862  (0.3776)\ttime: 64573ms  (33175ms)\n",
      "progress: 128/3 (4266.67%)\taccuracy: 98.44%  (66.95%)\tloss: 0.2355  (0.3350)\ttime: 60814ms  (41467ms)\n",
      "progress: 160/3 (5333.33%)\taccuracy: 93.75%  (74.99%)\tloss: 0.1908  (0.2917)\ttime: 22836ms  (35877ms)\n",
      "################################################################################\n",
      "Epoch summary:\n",
      "accuracy: 96.88%\tloss: 0.2375\ttime: 49408ms\n",
      "################################################################################\n",
      "progress: 64/3  (2133.33%)\taccuracy: 100.00%  (82.49%)\tloss: 0.1014  (0.2346)\ttime: 55974ms  (41906ms)\n",
      "progress: 128/3 (4266.67%)\taccuracy: 96.88%   (86.81%)\tloss: 0.0557  (0.1809)\ttime: 57480ms  (46578ms)\n",
      "progress: 160/3 (5333.33%)\taccuracy: 96.88%   (89.83%)\tloss: 0.0905  (0.1538)\ttime: 24481ms  (39949ms)\n",
      "################################################################################\n",
      "Epoch summary:\n",
      "accuracy: 97.92% \tloss: 0.0825\ttime: 45978ms\n",
      "################################################################################\n"
     ]
    }
   ],
   "source": [
    "# fine-tune with new classes\n",
    "t = trainer.Trainer(model, criterion, optimizer, train_loader)\n",
    "t.register_plugin(trainer.plugins.ProgressMonitor())\n",
    "t.register_plugin(trainer.plugins.AccuracyMonitor())\n",
    "t.register_plugin(trainer.plugins.LossMonitor())\n",
    "t.register_plugin(trainer.plugins.TimeMonitor())\n",
    "t.register_plugin(trainer.plugins.Logger(['progress', 'accuracy', 'loss', 'time']))\n",
    "\n",
    "epochs = 3\n",
    "t.run(epochs)"
   ]
  },
  {
   "cell_type": "code",
   "execution_count": 13,
   "metadata": {
    "collapsed": false
   },
   "outputs": [],
   "source": [
    "# Define some helper functions\n",
    "\n",
    "def denorm(tensor):\n",
    "    # Undo the image normalization + clamp between 0 and 1 to avoid image artifacts\n",
    "    for t, m, s in zip(tensor, [0.485, 0.456, 0.406], [0.229, 0.224, 0.225]): \n",
    "        t.mul_(s).add_(m).clamp_(0, 1)\n",
    "    return tensor\n",
    "\n",
    "def get_images_to_plot(images_tensor):\n",
    "    denormalize = transforms.Compose([\n",
    "        transforms.Lambda(denorm)\n",
    "    ])\n",
    "    return denormalize(images_tensor)\n",
    "\n",
    "def get_classes_strings(classes, labels_ids):\n",
    "    # returns the classes in string format\n",
    "    return [classes[label_id] for label_id in labels_ids]\n",
    "\n",
    "def get_prediction_classes_ids(predictions):\n",
    "    # returns the predictions in id format\n",
    "    predictions_ids = predictions.data.numpy().argmax(1)\n",
    "    return predictions_ids\n",
    "\n",
    "def get_prediction_classes_strings(classes, predictions):\n",
    "    # returns the predictions in string format\n",
    "    return get_classes_strings(classes, get_prediction_classes_ids(predictions))"
   ]
  },
  {
   "cell_type": "code",
   "execution_count": 21,
   "metadata": {
    "collapsed": false
   },
   "outputs": [
    {
     "name": "stdout",
     "output_type": "stream",
     "text": [
      "['dogs', 'cats', 'dogs', 'cats']\n"
     ]
    },
    {
     "data": {
      "image/png": "[encoded data removed]",
      "text/plain": [
       "<matplotlib.figure.Figure at 0x10b3c2908>"
      ]
     },
     "metadata": {},
     "output_type": "display_data"
    }
   ],
   "source": [
    "# display a sample set of images and their labels\n",
    "train_loader = get_data_loader(valdir, batch_size = 4)\n",
    "images, labels = next(iter(train_loader))\n",
    "show(make_grid(get_images_to_plot(images), padding=100))\n",
    "labels_string = get_classes_strings(classes, labels.numpy())\n",
    "print(labels_string)"
   ]
  },
  {
   "cell_type": "code",
   "execution_count": 19,
   "metadata": {
    "collapsed": false
   },
   "outputs": [
    {
     "name": "stdout",
     "output_type": "stream",
     "text": [
      "['dogs', 'cats', 'dogs', 'cats', 'cats']\n"
     ]
    }
   ],
   "source": [
    "# display the predictons for the images above\n",
    "predictions = model(Variable(images))\n",
    "predictions_string = get_prediction_classes_strings(classes, predictions)\n",
    "print(predictions_string)"
   ]
  },
  {
   "cell_type": "code",
   "execution_count": 16,
   "metadata": {
    "collapsed": false
   },
   "outputs": [],
   "source": [
    "import sys\n",
    "\n",
    "def get_accuracy(val_loader):\n",
    "    # Process each mini-batch and accumulate all correct classifications\n",
    "    correct = 0\n",
    "    num_batches = sum(1 for b in enumerate(val_loader))\n",
    "    batches = enumerate(val_loader)\n",
    "    for i, (images, labels) in batches:\n",
    "        sys.stdout.write('\\rBatch: {:d}/{:d}'.format(i + 1, num_batches))\n",
    "        sys.stdout.flush()\n",
    "        predictions = model(Variable(images))\n",
    "        prediction_classes_ids = torch.from_numpy(get_prediction_classes_ids(predictions))\n",
    "        correct += labels.eq(prediction_classes_ids).sum()\n",
    "    # Avoid carriage return\n",
    "    print('')\n",
    "    return 100.0 * correct / len(val_loader.dataset.imgs)"
   ]
  },
  {
   "cell_type": "code",
   "execution_count": 17,
   "metadata": {
    "collapsed": false
   },
   "outputs": [
    {
     "name": "stdout",
     "output_type": "stream",
     "text": [
      "Batch: 1/1\n",
      "Accuracy for validation set: 97.5\n"
     ]
    }
   ],
   "source": [
    "print('Accuracy for validation set: {}'.format(get_accuracy(val_loader)))"
   ]
  }
 ],
 "metadata": {
  "kernelspec": {
   "display_name": "Python 3",
   "language": "python",
   "name": "python3"
  },
  "language_info": {
   "codemirror_mode": {
    "name": "ipython",
    "version": 3
   },
   "file_extension": ".py",
   "mimetype": "text/x-python",
   "name": "python",
   "nbconvert_exporter": "python",
   "pygments_lexer": "ipython3",
   "version": "3.5.2"
  }
 },
 "nbformat": 4,
 "nbformat_minor": 2
}
