{
 "cells": [
  {
   "cell_type": "markdown",
   "metadata": {
    "deletable": true,
    "editable": true
   },
   "source": [
    "# Dogs vs Cats, ResNet 50 fine-tuned classifier"
   ]
  },
  {
   "cell_type": "code",
   "execution_count": 37,
   "metadata": {
    "collapsed": false,
    "deletable": true,
    "editable": true
   },
   "outputs": [],
   "source": [
    "import torch\n",
    "import torchvision.models as models\n",
    "import torchvision.transforms as transforms\n",
    "import torchvision.datasets as datasets\n",
    "from torchvision.utils import make_grid\n",
    "from PIL import Image\n",
    "import matplotlib.pyplot as plt\n",
    "import torch.nn as nn\n",
    "import torch.nn.functional as F\n",
    "import torch.optim as optim\n",
    "import torch.utils.trainer as trainer\n",
    "import torch.utils.trainer.plugins\n",
    "from torch.autograd import Variable\n",
    "import numpy as np\n",
    "import os"
   ]
  },
  {
   "cell_type": "code",
   "execution_count": 38,
   "metadata": {
    "collapsed": true,
    "deletable": true,
    "editable": true
   },
   "outputs": [],
   "source": [
    "%matplotlib inline\n",
    "def show(img):\n",
    "    npimg = img.numpy()\n",
    "    plt.imshow(np.transpose(npimg, (1,2,0)), interpolation='nearest')"
   ]
  },
  {
   "cell_type": "code",
   "execution_count": 39,
   "metadata": {
    "collapsed": false,
    "deletable": true,
    "editable": true
   },
   "outputs": [
    {
     "name": "stdout",
     "output_type": "stream",
     "text": [
      "Using CUDA: True\n"
     ]
    }
   ],
   "source": [
    "data_path = \"data/dogscats/\"\n",
    "# data_path = \"data/dogscats/sample/\"\n",
    "use_cuda = True\n",
    "batch_size = 64\n",
    "print('Using CUDA:', use_cuda)"
   ]
  },
  {
   "cell_type": "code",
   "execution_count": 40,
   "metadata": {
    "collapsed": false,
    "deletable": true,
    "editable": true
   },
   "outputs": [
    {
     "name": "stdout",
     "output_type": "stream",
     "text": [
      "Images in test folder: 12500\n"
     ]
    }
   ],
   "source": [
    "# Data loading code\n",
    "traindir = os.path.join(data_path, 'train')\n",
    "valdir = os.path.join(data_path, 'valid') \n",
    "# cd data/dogscats\n",
    "# mkdir -p test\n",
    "# mv test1 test/\n",
    "testdir = os.path.join(data_path, 'test')\n",
    "\n",
    "# pytorch way of implementing fastai's get_batches, (utils.py)\n",
    "def get_data_loader(dirname, shuffle=True, batch_size = 64):\n",
    "    # pytorch's VGG requires images to be 224x224 and normalized using https://github.com/pytorch/vision#models\n",
    "    normalize = transforms.Compose([\n",
    "        transforms.Lambda(lambda img: img.resize((224, 224), Image.BILINEAR)),\n",
    "        transforms.ToTensor(),\n",
    "        transforms.Normalize(mean=[0.485, 0.456, 0.406], std=[0.229, 0.224, 0.225]),\n",
    "    ])\n",
    "    \n",
    "    image_folder = datasets.ImageFolder(dirname, normalize)\n",
    "    return torch.utils.data.DataLoader(image_folder, batch_size=batch_size, \n",
    "                                       shuffle=shuffle, pin_memory=use_cuda), image_folder\n",
    "\n",
    "train_loader, folder = get_data_loader(traindir, batch_size=batch_size)\n",
    "val_loader, folder = get_data_loader(valdir, shuffle=False, batch_size=batch_size)\n",
    "test_loader, testfolder = get_data_loader(testdir, shuffle=False, batch_size=batch_size)\n",
    "\n",
    "print('Images in test folder:', len(testfolder.imgs))"
   ]
  },
  {
   "cell_type": "code",
   "execution_count": 41,
   "metadata": {
    "collapsed": false,
    "deletable": true,
    "editable": true
   },
   "outputs": [],
   "source": [
    "# Load the model\n",
    "model = models.resnet50(pretrained=True)"
   ]
  },
  {
   "cell_type": "code",
   "execution_count": 42,
   "metadata": {
    "collapsed": false,
    "deletable": true,
    "editable": true
   },
   "outputs": [
    {
     "name": "stdout",
     "output_type": "stream",
     "text": [
      "Using 2 classes: ['cats', 'dogs']\n"
     ]
    }
   ],
   "source": [
    "# Finetune by replacing the last fully connected layer and freezing all network parameters\n",
    "for param in model.parameters():\n",
    "    param.requires_grad = False\n",
    "\n",
    "# Replace the last fully-connected layer matching the new class count\n",
    "classes = train_loader.dataset.classes\n",
    "num_classes = len(classes)\n",
    "print('Using {:d} classes: {}'.format(num_classes, classes))\n",
    "expansion = 4 # TODO use Bottleneck.expansion instead\n",
    "model.fc = nn.Linear(512 * expansion, num_classes)"
   ]
  },
  {
   "cell_type": "code",
   "execution_count": 43,
   "metadata": {
    "collapsed": false,
    "deletable": true,
    "editable": true
   },
   "outputs": [],
   "source": [
    "# define loss function (criterion) and optimizer\n",
    "criterion = nn.CrossEntropyLoss()\n",
    "# enable cuda if available\n",
    "if(use_cuda):\n",
    "    model.cuda()\n",
    "    criterion.cuda()\n",
    "optimizer = optim.SGD(model.fc.parameters(), lr=1e-2, momentum=0.9)"
   ]
  },
  {
   "cell_type": "code",
   "execution_count": 44,
   "metadata": {
    "collapsed": true
   },
   "outputs": [],
   "source": [
    "def getTrainer():\n",
    "    # fine-tune with new classes\n",
    "    t = trainer.Trainer(model, criterion, optimizer, train_loader)\n",
    "    t.register_plugin(trainer.plugins.ProgressMonitor())\n",
    "    t.register_plugin(trainer.plugins.AccuracyMonitor())\n",
    "    t.register_plugin(trainer.plugins.LossMonitor())\n",
    "    t.register_plugin(trainer.plugins.TimeMonitor())\n",
    "    t.register_plugin(trainer.plugins.Logger(['progress', 'accuracy', 'loss', 'time']))\n",
    "    \n",
    "    # Requires a monkey patched version of trainery.py that calls\n",
    "    # input_var = Variable(batch_input.cuda())    # Line 57\n",
    "    # target_var = Variable(batch_target.cuda())  # Line 58\n",
    "    return t"
   ]
  },
  {
   "cell_type": "code",
   "execution_count": 52,
   "metadata": {
    "collapsed": false,
    "deletable": true,
    "editable": true
   },
   "outputs": [
    {
     "name": "stdout",
     "output_type": "stream",
     "text": [
      "progress: 1/360 (0.28%)\taccuracy: 95.31%  (28.59%)\tloss: 0.0741  (0.0222)\ttime: 0ms  (0ms)\n",
      "progress: 2/360 (0.56%)\taccuracy: 96.88%  (49.08%)\tloss: 0.0570  (0.0327)\ttime: 1054ms  (316ms)\n",
      "progress: 3/360 (0.83%)\taccuracy: 98.44%  (63.89%)\tloss: 0.1009  (0.0531)\ttime: 1028ms  (530ms)\n",
      "progress: 4/360 (1.11%)\taccuracy: 98.44%  (74.25%)\tloss: 0.0395  (0.0490)\ttime: 1027ms  (679ms)\n",
      "progress: 5/360 (1.39%)\taccuracy: 96.88%  (81.04%)\tloss: 0.0633  (0.0533)\ttime: 996ms   (774ms)\n",
      "progress: 6/360 (1.67%)\taccuracy: 98.44%  (86.26%)\tloss: 0.0174  (0.0425)\ttime: 990ms   (839ms)\n",
      "progress: 7/360 (1.94%)\taccuracy: 98.44%  (89.91%)\tloss: 0.0223  (0.0365)\ttime: 1009ms  (890ms)\n",
      "progress: 8/360 (2.22%)\taccuracy: 96.88%  (92.00%)\tloss: 0.1070  (0.0576)\ttime: 1009ms  (926ms)\n",
      "progress: 9/360 (2.50%)\taccuracy: 98.44%  (93.93%)\tloss: 0.0256  (0.0480)\ttime: 1001ms  (948ms)\n",
      "progress: 10/360 (2.78%)\taccuracy: 98.44%  (95.28%)\tloss: 0.0204  (0.0397)\ttime: 1000ms  (964ms)\n",
      "progress: 11/360 (3.06%)\taccuracy: 95.31%  (95.29%)\tloss: 0.0692  (0.0486)\ttime: 984ms   (970ms)\n",
      "progress: 12/360 (3.33%)\taccuracy: 100.00%  (96.70%)\tloss: 0.0072  (0.0362)\ttime: 994ms   (977ms)\n",
      "progress: 13/360 (3.61%)\taccuracy: 98.44%   (97.22%)\tloss: 0.1276  (0.0636)\ttime: 1008ms  (987ms)\n",
      "progress: 14/360 (3.89%)\taccuracy: 96.88%   (97.12%)\tloss: 0.0601  (0.0625)\ttime: 995ms   (989ms)\n",
      "progress: 15/360 (4.17%)\taccuracy: 96.88%   (97.05%)\tloss: 0.0641  (0.0630)\ttime: 1008ms  (995ms)\n",
      "progress: 16/360 (4.44%)\taccuracy: 100.00%  (97.93%)\tloss: 0.0056  (0.0458)\ttime: 1056ms  (1013ms)\n",
      "progress: 17/360 (4.72%)\taccuracy: 100.00%  (98.55%)\tloss: 0.0016  (0.0325)\ttime: 975ms   (1002ms)\n",
      "progress: 18/360 (5.00%)\taccuracy: 96.88%   (98.05%)\tloss: 0.0788  (0.0464)\ttime: 1019ms  (1007ms)\n",
      "progress: 19/360 (5.28%)\taccuracy: 100.00%  (98.63%)\tloss: 0.0125  (0.0362)\ttime: 1014ms  (1009ms)\n",
      "progress: 20/360 (5.56%)\taccuracy: 98.44%   (98.58%)\tloss: 0.0254  (0.0330)\ttime: 1018ms  (1012ms)\n",
      "progress: 21/360 (5.83%)\taccuracy: 96.88%   (98.07%)\tloss: 0.0747  (0.0455)\ttime: 1018ms  (1014ms)\n",
      "progress: 22/360 (6.11%)\taccuracy: 98.44%   (98.18%)\tloss: 0.0268  (0.0399)\ttime: 1001ms  (1010ms)\n",
      "progress: 23/360 (6.39%)\taccuracy: 100.00%  (98.72%)\tloss: 0.0048  (0.0294)\ttime: 1016ms  (1012ms)\n",
      "progress: 24/360 (6.67%)\taccuracy: 100.00%  (99.11%)\tloss: 0.0038  (0.0217)\ttime: 1036ms  (1019ms)\n",
      "progress: 25/360 (6.94%)\taccuracy: 100.00%  (99.37%)\tloss: 0.0197  (0.0211)\ttime: 1026ms  (1021ms)\n",
      "progress: 26/360 (7.22%)\taccuracy: 98.44%   (99.09%)\tloss: 0.0610  (0.0331)\ttime: 1028ms  (1023ms)\n",
      "progress: 27/360 (7.50%)\taccuracy: 98.44%   (98.90%)\tloss: 0.0570  (0.0403)\ttime: 1025ms  (1024ms)\n",
      "progress: 28/360 (7.78%)\taccuracy: 98.44%   (98.76%)\tloss: 0.0571  (0.0453)\ttime: 1027ms  (1025ms)\n",
      "progress: 29/360 (8.06%)\taccuracy: 96.88%   (98.19%)\tloss: 0.0727  (0.0535)\ttime: 1026ms  (1025ms)\n",
      "progress: 30/360 (8.33%)\taccuracy: 100.00%  (98.74%)\tloss: 0.0356  (0.0482)\ttime: 1026ms  (1025ms)\n",
      "progress: 31/360 (8.61%)\taccuracy: 95.31%   (97.71%)\tloss: 0.0570  (0.0508)\ttime: 999ms   (1017ms)\n",
      "progress: 32/360 (8.89%)\taccuracy: 95.31%   (96.99%)\tloss: 0.1320  (0.0752)\ttime: 1027ms  (1020ms)\n",
      "progress: 33/360 (9.17%)\taccuracy: 95.31%   (96.49%)\tloss: 0.1426  (0.0954)\ttime: 1018ms  (1020ms)\n",
      "progress: 34/360 (9.44%)\taccuracy: 93.75%   (95.67%)\tloss: 0.3275  (0.1650)\ttime: 1035ms  (1024ms)\n",
      "progress: 35/360 (9.72%)\taccuracy: 98.44%   (96.50%)\tloss: 0.0266  (0.1235)\ttime: 1028ms  (1025ms)\n",
      "progress: 36/360 (10.00%)\taccuracy: 100.00%  (97.55%)\tloss: 0.0069  (0.0885)\ttime: 1028ms  (1026ms)\n",
      "progress: 37/360 (10.28%)\taccuracy: 98.44%   (97.81%)\tloss: 0.0339  (0.0721)\ttime: 1043ms  (1031ms)\n",
      "progress: 38/360 (10.56%)\taccuracy: 100.00%  (98.47%)\tloss: 0.0083  (0.0530)\ttime: 1023ms  (1029ms)\n",
      "progress: 39/360 (10.83%)\taccuracy: 90.62%   (96.12%)\tloss: 0.2909  (0.1244)\ttime: 1004ms  (1021ms)\n",
      "progress: 40/360 (11.11%)\taccuracy: 100.00%  (97.28%)\tloss: 0.0234  (0.0941)\ttime: 1046ms  (1029ms)\n",
      "progress: 41/360 (11.39%)\taccuracy: 98.44%   (97.63%)\tloss: 0.0339  (0.0760)\ttime: 1048ms  (1034ms)\n",
      "progress: 42/360 (11.67%)\taccuracy: 98.44%   (97.87%)\tloss: 0.0362  (0.0641)\ttime: 1006ms  (1026ms)\n",
      "progress: 43/360 (11.94%)\taccuracy: 98.44%   (98.04%)\tloss: 0.0503  (0.0599)\ttime: 1005ms  (1020ms)\n",
      "progress: 44/360 (12.22%)\taccuracy: 95.31%   (97.22%)\tloss: 0.1340  (0.0821)\ttime: 1015ms  (1018ms)\n",
      "progress: 45/360 (12.50%)\taccuracy: 98.44%   (97.59%)\tloss: 0.0484  (0.0720)\ttime: 1032ms  (1022ms)\n",
      "progress: 46/360 (12.78%)\taccuracy: 89.06%   (95.03%)\tloss: 0.2541  (0.1266)\ttime: 1043ms  (1029ms)\n",
      "progress: 47/360 (13.06%)\taccuracy: 98.44%   (96.05%)\tloss: 0.0514  (0.1041)\ttime: 1019ms  (1026ms)\n",
      "progress: 48/360 (13.33%)\taccuracy: 100.00%  (97.24%)\tloss: 0.0065  (0.0748)\ttime: 1008ms  (1021ms)\n",
      "progress: 49/360 (13.61%)\taccuracy: 100.00%  (98.07%)\tloss: 0.0077  (0.0546)\ttime: 1017ms  (1019ms)\n",
      "progress: 50/360 (13.89%)\taccuracy: 93.75%   (96.77%)\tloss: 0.0823  (0.0629)\ttime: 1012ms  (1017ms)\n",
      "progress: 51/360 (14.17%)\taccuracy: 93.75%   (95.86%)\tloss: 0.1270  (0.0822)\ttime: 999ms   (1012ms)\n",
      "progress: 52/360 (14.44%)\taccuracy: 100.00%  (97.11%)\tloss: 0.0175  (0.0628)\ttime: 990ms   (1005ms)\n",
      "progress: 53/360 (14.72%)\taccuracy: 98.44%   (97.50%)\tloss: 0.0377  (0.0552)\ttime: 1024ms  (1011ms)\n",
      "progress: 54/360 (15.00%)\taccuracy: 96.88%   (97.32%)\tloss: 0.2101  (0.1017)\ttime: 995ms   (1006ms)\n",
      "progress: 55/360 (15.28%)\taccuracy: 93.75%   (96.25%)\tloss: 0.1798  (0.1251)\ttime: 1049ms  (1019ms)\n",
      "progress: 56/360 (15.56%)\taccuracy: 100.00%  (97.37%)\tloss: 0.0047  (0.0890)\ttime: 1012ms  (1017ms)\n",
      "progress: 57/360 (15.83%)\taccuracy: 100.00%  (98.16%)\tloss: 0.0139  (0.0665)\ttime: 1046ms  (1026ms)\n",
      "progress: 58/360 (16.11%)\taccuracy: 100.00%  (98.71%)\tloss: 0.0186  (0.0521)\ttime: 1014ms  (1022ms)\n",
      "progress: 59/360 (16.39%)\taccuracy: 100.00%  (99.10%)\tloss: 0.0151  (0.0410)\ttime: 1002ms  (1016ms)\n",
      "progress: 60/360 (16.67%)\taccuracy: 98.44%   (98.90%)\tloss: 0.0491  (0.0434)\ttime: 1027ms  (1019ms)\n",
      "progress: 61/360 (16.94%)\taccuracy: 96.88%   (98.29%)\tloss: 0.0780  (0.0538)\ttime: 1032ms  (1023ms)\n",
      "progress: 62/360 (17.22%)\taccuracy: 98.44%   (98.34%)\tloss: 0.0325  (0.0474)\ttime: 1027ms  (1024ms)\n",
      "progress: 63/360 (17.50%)\taccuracy: 98.44%   (98.37%)\tloss: 0.0538  (0.0493)\ttime: 1002ms  (1018ms)\n",
      "progress: 64/360 (17.78%)\taccuracy: 96.88%   (97.92%)\tloss: 0.0411  (0.0469)\ttime: 1016ms  (1017ms)\n",
      "progress: 65/360 (18.06%)\taccuracy: 93.75%   (96.67%)\tloss: 0.2646  (0.1122)\ttime: 1038ms  (1023ms)\n",
      "progress: 66/360 (18.33%)\taccuracy: 98.44%   (97.20%)\tloss: 0.0516  (0.0940)\ttime: 1008ms  (1019ms)\n",
      "progress: 67/360 (18.61%)\taccuracy: 95.31%   (96.63%)\tloss: 0.1344  (0.1061)\ttime: 1022ms  (1020ms)\n",
      "progress: 68/360 (18.89%)\taccuracy: 93.75%   (95.77%)\tloss: 0.0858  (0.1000)\ttime: 1062ms  (1032ms)\n",
      "progress: 69/360 (19.17%)\taccuracy: 95.31%   (95.63%)\tloss: 0.0791  (0.0937)\ttime: 1027ms  (1031ms)\n",
      "progress: 70/360 (19.44%)\taccuracy: 98.44%   (96.47%)\tloss: 0.0441  (0.0789)\ttime: 1018ms  (1027ms)\n",
      "progress: 71/360 (19.72%)\taccuracy: 98.44%   (97.06%)\tloss: 0.0254  (0.0628)\ttime: 1004ms  (1020ms)\n",
      "progress: 72/360 (20.00%)\taccuracy: 93.75%   (96.07%)\tloss: 0.1529  (0.0898)\ttime: 979ms   (1008ms)\n",
      "progress: 73/360 (20.28%)\taccuracy: 98.44%   (96.78%)\tloss: 0.0359  (0.0736)\ttime: 1007ms  (1007ms)\n",
      "progress: 74/360 (20.56%)\taccuracy: 98.44%   (97.28%)\tloss: 0.0433  (0.0645)\ttime: 1032ms  (1015ms)\n",
      "progress: 75/360 (20.83%)\taccuracy: 100.00%  (98.09%)\tloss: 0.0054  (0.0468)\ttime: 1000ms  (1010ms)\n",
      "progress: 76/360 (21.11%)\taccuracy: 100.00%  (98.67%)\tloss: 0.0108  (0.0360)\ttime: 1043ms  (1020ms)\n",
      "progress: 77/360 (21.39%)\taccuracy: 100.00%  (99.07%)\tloss: 0.0055  (0.0268)\ttime: 1009ms  (1017ms)\n",
      "progress: 78/360 (21.67%)\taccuracy: 96.88%   (98.41%)\tloss: 0.0971  (0.0479)\ttime: 1014ms  (1016ms)\n",
      "progress: 79/360 (21.94%)\taccuracy: 98.44%   (98.42%)\tloss: 0.0623  (0.0522)\ttime: 1029ms  (1020ms)\n",
      "progress: 80/360 (22.22%)\taccuracy: 100.00%  (98.89%)\tloss: 0.0189  (0.0422)\ttime: 1018ms  (1020ms)\n",
      "progress: 81/360 (22.50%)\taccuracy: 100.00%  (99.22%)\tloss: 0.0286  (0.0381)\ttime: 1003ms  (1014ms)\n",
      "progress: 82/360 (22.78%)\taccuracy: 98.44%   (98.99%)\tloss: 0.0238  (0.0338)\ttime: 1046ms  (1024ms)\n",
      "progress: 83/360 (23.06%)\taccuracy: 96.88%   (98.35%)\tloss: 0.0785  (0.0473)\ttime: 1038ms  (1028ms)\n",
      "progress: 84/360 (23.33%)\taccuracy: 98.44%   (98.38%)\tloss: 0.0359  (0.0438)\ttime: 990ms   (1017ms)\n",
      "progress: 85/360 (23.61%)\taccuracy: 96.88%   (97.93%)\tloss: 0.0458  (0.0444)\ttime: 1015ms  (1016ms)\n",
      "progress: 86/360 (23.89%)\taccuracy: 96.88%   (97.61%)\tloss: 0.0795  (0.0550)\ttime: 1050ms  (1026ms)\n",
      "progress: 87/360 (24.17%)\taccuracy: 98.44%   (97.86%)\tloss: 0.0255  (0.0461)\ttime: 1029ms  (1027ms)\n",
      "progress: 88/360 (24.44%)\taccuracy: 98.44%   (98.03%)\tloss: 0.0634  (0.0513)\ttime: 1054ms  (1035ms)\n",
      "progress: 89/360 (24.72%)\taccuracy: 98.44%   (98.15%)\tloss: 0.0392  (0.0477)\ttime: 1025ms  (1032ms)\n",
      "progress: 90/360 (25.00%)\taccuracy: 93.75%   (96.83%)\tloss: 0.1388  (0.0750)\ttime: 1020ms  (1029ms)\n",
      "progress: 91/360 (25.28%)\taccuracy: 100.00%  (97.78%)\tloss: 0.0066  (0.0545)\ttime: 1030ms  (1029ms)\n",
      "progress: 92/360 (25.56%)\taccuracy: 100.00%  (98.45%)\tloss: 0.0053  (0.0397)\ttime: 1020ms  (1026ms)\n",
      "progress: 93/360 (25.83%)\taccuracy: 100.00%  (98.91%)\tloss: 0.0183  (0.0333)\ttime: 1031ms  (1028ms)\n",
      "progress: 94/360 (26.11%)\taccuracy: 100.00%  (99.24%)\tloss: 0.0128  (0.0271)\ttime: 1000ms  (1019ms)\n",
      "progress: 95/360 (26.39%)\taccuracy: 98.44%   (99.00%)\tloss: 0.0407  (0.0312)\ttime: 1034ms  (1024ms)\n",
      "progress: 96/360 (26.67%)\taccuracy: 100.00%  (99.30%)\tloss: 0.0307  (0.0311)\ttime: 1008ms  (1019ms)\n",
      "progress: 97/360 (26.94%)\taccuracy: 95.31%   (98.10%)\tloss: 0.1154  (0.0564)\ttime: 1035ms  (1024ms)\n",
      "progress: 98/360 (27.22%)\taccuracy: 100.00%  (98.67%)\tloss: 0.0155  (0.0441)\ttime: 995ms   (1015ms)\n",
      "progress: 99/360 (27.50%)\taccuracy: 100.00%  (99.07%)\tloss: 0.0146  (0.0353)\ttime: 1010ms  (1014ms)\n",
      "progress: 100/360 (27.78%)\taccuracy: 98.44%   (98.88%)\tloss: 0.0920  (0.0523)\ttime: 1009ms  (1012ms)\n",
      "progress: 101/360 (28.06%)\taccuracy: 98.44%   (98.75%)\tloss: 0.0330  (0.0465)\ttime: 1036ms  (1020ms)\n",
      "progress: 102/360 (28.33%)\taccuracy: 98.44%   (98.65%)\tloss: 0.0394  (0.0444)\ttime: 1018ms  (1019ms)\n",
      "progress: 103/360 (28.61%)\taccuracy: 96.88%   (98.12%)\tloss: 0.0455  (0.0447)\ttime: 1013ms  (1017ms)\n",
      "progress: 104/360 (28.89%)\taccuracy: 96.88%   (97.75%)\tloss: 0.0830  (0.0562)\ttime: 1007ms  (1014ms)\n",
      "progress: 105/360 (29.17%)\taccuracy: 98.44%   (97.95%)\tloss: 0.0300  (0.0483)\ttime: 1016ms  (1015ms)\n",
      "progress: 106/360 (29.44%)\taccuracy: 92.19%   (96.22%)\tloss: 0.3457  (0.1376)\ttime: 1016ms  (1015ms)\n",
      "progress: 107/360 (29.72%)\taccuracy: 100.00%  (97.36%)\tloss: 0.0246  (0.1037)\ttime: 1066ms  (1030ms)\n",
      "progress: 108/360 (30.00%)\taccuracy: 100.00%  (98.15%)\tloss: 0.0136  (0.0767)\ttime: 1010ms  (1024ms)\n",
      "progress: 109/360 (30.28%)\taccuracy: 95.31%   (97.30%)\tloss: 0.1770  (0.1067)\ttime: 1035ms  (1027ms)\n",
      "progress: 110/360 (30.56%)\taccuracy: 98.44%   (97.64%)\tloss: 0.0193  (0.0805)\ttime: 1039ms  (1031ms)\n",
      "progress: 111/360 (30.83%)\taccuracy: 100.00%  (98.35%)\tloss: 0.0433  (0.0693)\ttime: 1043ms  (1035ms)\n",
      "progress: 112/360 (31.11%)\taccuracy: 95.31%   (97.44%)\tloss: 0.0635  (0.0676)\ttime: 1006ms  (1026ms)\n",
      "progress: 113/360 (31.39%)\taccuracy: 96.88%   (97.27%)\tloss: 0.0712  (0.0687)\ttime: 1002ms  (1019ms)\n",
      "progress: 114/360 (31.67%)\taccuracy: 100.00%  (98.09%)\tloss: 0.0271  (0.0562)\ttime: 1033ms  (1023ms)\n",
      "progress: 115/360 (31.94%)\taccuracy: 95.31%   (97.26%)\tloss: 0.0927  (0.0671)\ttime: 1058ms  (1033ms)\n",
      "progress: 116/360 (32.22%)\taccuracy: 98.44%   (97.61%)\tloss: 0.0129  (0.0509)\ttime: 1045ms  (1037ms)\n",
      "progress: 117/360 (32.50%)\taccuracy: 98.44%   (97.86%)\tloss: 0.0861  (0.0614)\ttime: 1052ms  (1042ms)\n",
      "progress: 118/360 (32.78%)\taccuracy: 100.00%  (98.50%)\tloss: 0.0149  (0.0475)\ttime: 1014ms  (1033ms)\n",
      "progress: 119/360 (33.06%)\taccuracy: 98.44%   (98.48%)\tloss: 0.0351  (0.0438)\ttime: 1010ms  (1026ms)\n",
      "progress: 120/360 (33.33%)\taccuracy: 98.44%   (98.47%)\tloss: 0.0386  (0.0422)\ttime: 1018ms  (1024ms)\n",
      "progress: 121/360 (33.61%)\taccuracy: 98.44%   (98.46%)\tloss: 0.0217  (0.0360)\ttime: 1020ms  (1023ms)\n",
      "progress: 122/360 (33.89%)\taccuracy: 96.88%   (97.98%)\tloss: 0.0475  (0.0395)\ttime: 1002ms  (1016ms)\n",
      "progress: 123/360 (34.17%)\taccuracy: 98.44%   (98.12%)\tloss: 0.0295  (0.0365)\ttime: 1024ms  (1019ms)\n",
      "progress: 124/360 (34.44%)\taccuracy: 98.44%   (98.22%)\tloss: 0.0398  (0.0375)\ttime: 1026ms  (1021ms)\n",
      "progress: 125/360 (34.72%)\taccuracy: 98.44%   (98.28%)\tloss: 0.0626  (0.0450)\ttime: 1019ms  (1020ms)\n",
      "progress: 126/360 (35.00%)\taccuracy: 98.44%   (98.33%)\tloss: 0.0374  (0.0427)\ttime: 1056ms  (1031ms)\n",
      "progress: 127/360 (35.28%)\taccuracy: 96.88%   (97.89%)\tloss: 0.0874  (0.0561)\ttime: 1028ms  (1030ms)\n",
      "progress: 128/360 (35.56%)\taccuracy: 96.88%   (97.59%)\tloss: 0.0688  (0.0599)\ttime: 1014ms  (1025ms)\n",
      "progress: 129/360 (35.83%)\taccuracy: 100.00%  (98.31%)\tloss: 0.0154  (0.0466)\ttime: 1010ms  (1021ms)\n",
      "progress: 130/360 (36.11%)\taccuracy: 100.00%  (98.82%)\tloss: 0.0201  (0.0386)\ttime: 1061ms  (1033ms)\n",
      "progress: 131/360 (36.39%)\taccuracy: 98.44%   (98.70%)\tloss: 0.0314  (0.0365)\ttime: 1013ms  (1027ms)\n",
      "progress: 132/360 (36.67%)\taccuracy: 96.88%   (98.16%)\tloss: 0.0767  (0.0485)\ttime: 1073ms  (1041ms)\n",
      "progress: 133/360 (36.94%)\taccuracy: 89.06%   (95.43%)\tloss: 0.3468  (0.1380)\ttime: 1011ms  (1032ms)\n",
      "progress: 134/360 (37.22%)\taccuracy: 96.88%   (95.86%)\tloss: 0.0476  (0.1109)\ttime: 999ms   (1022ms)\n",
      "progress: 135/360 (37.50%)\taccuracy: 100.00%  (97.10%)\tloss: 0.0078  (0.0800)\ttime: 1047ms  (1030ms)\n",
      "progress: 136/360 (37.78%)\taccuracy: 98.44%   (97.50%)\tloss: 0.0383  (0.0674)\ttime: 1048ms  (1035ms)\n",
      "progress: 137/360 (38.06%)\taccuracy: 98.44%   (97.78%)\tloss: 0.0546  (0.0636)\ttime: 1037ms  (1036ms)\n",
      "progress: 138/360 (38.33%)\taccuracy: 96.88%   (97.51%)\tloss: 0.1117  (0.0780)\ttime: 1058ms  (1043ms)\n",
      "progress: 139/360 (38.61%)\taccuracy: 100.00%  (98.26%)\tloss: 0.0130  (0.0585)\ttime: 1040ms  (1042ms)\n",
      "progress: 140/360 (38.89%)\taccuracy: 98.44%   (98.31%)\tloss: 0.0584  (0.0585)\ttime: 1027ms  (1037ms)\n",
      "progress: 141/360 (39.17%)\taccuracy: 93.75%   (96.94%)\tloss: 0.1435  (0.0840)\ttime: 985ms   (1022ms)\n",
      "progress: 142/360 (39.44%)\taccuracy: 93.75%   (95.99%)\tloss: 0.2844  (0.1441)\ttime: 1008ms  (1018ms)\n",
      "progress: 143/360 (39.72%)\taccuracy: 98.44%   (96.72%)\tloss: 0.0192  (0.1066)\ttime: 1036ms  (1023ms)\n",
      "progress: 144/360 (40.00%)\taccuracy: 98.44%   (97.24%)\tloss: 0.0665  (0.0946)\ttime: 1018ms  (1022ms)\n",
      "progress: 145/360 (40.28%)\taccuracy: 98.44%   (97.60%)\tloss: 0.0678  (0.0866)\ttime: 1006ms  (1017ms)\n",
      "progress: 146/360 (40.56%)\taccuracy: 98.44%   (97.85%)\tloss: 0.0580  (0.0780)\ttime: 1032ms  (1022ms)\n",
      "progress: 147/360 (40.83%)\taccuracy: 90.62%   (95.68%)\tloss: 0.1381  (0.0960)\ttime: 999ms   (1015ms)\n",
      "progress: 148/360 (41.11%)\taccuracy: 100.00%  (96.98%)\tloss: 0.0214  (0.0736)\ttime: 1009ms  (1013ms)\n",
      "progress: 149/360 (41.39%)\taccuracy: 98.44%   (97.42%)\tloss: 0.0347  (0.0620)\ttime: 998ms   (1009ms)\n",
      "progress: 150/360 (41.67%)\taccuracy: 92.19%   (95.85%)\tloss: 0.1382  (0.0848)\ttime: 1015ms  (1010ms)\n",
      "progress: 151/360 (41.94%)\taccuracy: 98.44%   (96.62%)\tloss: 0.0257  (0.0671)\ttime: 1012ms  (1011ms)\n",
      "progress: 152/360 (42.22%)\taccuracy: 100.00%  (97.64%)\tloss: 0.0085  (0.0495)\ttime: 986ms   (1004ms)\n",
      "progress: 153/360 (42.50%)\taccuracy: 98.44%   (97.88%)\tloss: 0.0861  (0.0605)\ttime: 992ms   (1000ms)\n",
      "progress: 154/360 (42.78%)\taccuracy: 98.44%   (98.05%)\tloss: 0.0294  (0.0512)\ttime: 998ms   (999ms) \n",
      "progress: 155/360 (43.06%)\taccuracy: 100.00%  (98.63%)\tloss: 0.0157  (0.0405)\ttime: 1029ms  (1008ms)\n",
      "progress: 156/360 (43.33%)\taccuracy: 96.88%   (98.10%)\tloss: 0.0611  (0.0467)\ttime: 1021ms  (1012ms)\n",
      "progress: 157/360 (43.61%)\taccuracy: 93.75%   (96.80%)\tloss: 0.2430  (0.1056)\ttime: 1006ms  (1010ms)\n",
      "progress: 158/360 (43.89%)\taccuracy: 98.44%   (97.29%)\tloss: 0.0680  (0.0943)\ttime: 1006ms  (1009ms)\n",
      "progress: 159/360 (44.17%)\taccuracy: 100.00%  (98.10%)\tloss: 0.0045  (0.0674)\ttime: 1009ms  (1009ms)\n",
      "progress: 160/360 (44.44%)\taccuracy: 100.00%  (98.67%)\tloss: 0.0092  (0.0499)\ttime: 1036ms  (1017ms)\n",
      "progress: 161/360 (44.72%)\taccuracy: 100.00%  (99.07%)\tloss: 0.0202  (0.0410)\ttime: 1013ms  (1016ms)\n",
      "progress: 162/360 (45.00%)\taccuracy: 96.88%   (98.41%)\tloss: 0.0686  (0.0493)\ttime: 1017ms  (1016ms)\n",
      "progress: 163/360 (45.28%)\taccuracy: 98.44%   (98.42%)\tloss: 0.0688  (0.0551)\ttime: 1018ms  (1017ms)\n",
      "progress: 164/360 (45.56%)\taccuracy: 98.44%   (98.42%)\tloss: 0.1407  (0.0808)\ttime: 1052ms  (1027ms)\n",
      "progress: 165/360 (45.83%)\taccuracy: 98.44%   (98.43%)\tloss: 0.0777  (0.0799)\ttime: 1028ms  (1027ms)\n",
      "progress: 166/360 (46.11%)\taccuracy: 100.00%  (98.90%)\tloss: 0.0460  (0.0697)\ttime: 1032ms  (1029ms)\n",
      "progress: 167/360 (46.39%)\taccuracy: 98.44%   (98.76%)\tloss: 0.0358  (0.0595)\ttime: 990ms   (1017ms)\n",
      "progress: 168/360 (46.67%)\taccuracy: 98.44%   (98.66%)\tloss: 0.0517  (0.0572)\ttime: 1027ms  (1020ms)\n",
      "progress: 169/360 (46.94%)\taccuracy: 98.44%   (98.60%)\tloss: 0.0348  (0.0505)\ttime: 1018ms  (1019ms)\n",
      "progress: 170/360 (47.22%)\taccuracy: 96.88%   (98.08%)\tloss: 0.0419  (0.0479)\ttime: 1068ms  (1034ms)\n",
      "progress: 171/360 (47.50%)\taccuracy: 98.44%   (98.19%)\tloss: 0.0246  (0.0409)\ttime: 1007ms  (1026ms)\n",
      "progress: 172/360 (47.78%)\taccuracy: 96.88%   (97.79%)\tloss: 0.1046  (0.0600)\ttime: 1022ms  (1025ms)\n",
      "progress: 173/360 (48.06%)\taccuracy: 95.31%   (97.05%)\tloss: 0.1107  (0.0752)\ttime: 1045ms  (1031ms)\n",
      "progress: 174/360 (48.33%)\taccuracy: 98.44%   (97.47%)\tloss: 0.0338  (0.0628)\ttime: 1028ms  (1030ms)\n",
      "progress: 175/360 (48.61%)\taccuracy: 98.44%   (97.76%)\tloss: 0.0415  (0.0564)\ttime: 998ms   (1021ms)\n",
      "progress: 176/360 (48.89%)\taccuracy: 100.00%  (98.43%)\tloss: 0.0052  (0.0411)\ttime: 1019ms  (1020ms)\n",
      "progress: 177/360 (49.17%)\taccuracy: 98.44%   (98.43%)\tloss: 0.0431  (0.0417)\ttime: 1015ms  (1019ms)\n",
      "progress: 178/360 (49.44%)\taccuracy: 93.75%   (97.03%)\tloss: 0.1105  (0.0623)\ttime: 1019ms  (1019ms)\n",
      "progress: 179/360 (49.72%)\taccuracy: 100.00%  (97.92%)\tloss: 0.0145  (0.0480)\ttime: 1034ms  (1023ms)\n",
      "progress: 180/360 (50.00%)\taccuracy: 98.44%   (98.07%)\tloss: 0.0205  (0.0397)\ttime: 1043ms  (1029ms)\n",
      "progress: 181/360 (50.28%)\taccuracy: 98.44%   (98.18%)\tloss: 0.0272  (0.0360)\ttime: 1043ms  (1033ms)\n",
      "progress: 182/360 (50.56%)\taccuracy: 96.88%   (97.79%)\tloss: 0.0996  (0.0551)\ttime: 1039ms  (1035ms)\n",
      "progress: 183/360 (50.83%)\taccuracy: 95.31%   (97.05%)\tloss: 0.0709  (0.0598)\ttime: 1016ms  (1029ms)\n",
      "progress: 184/360 (51.11%)\taccuracy: 100.00%  (97.93%)\tloss: 0.0203  (0.0480)\ttime: 1000ms  (1021ms)\n",
      "progress: 185/360 (51.39%)\taccuracy: 98.44%   (98.08%)\tloss: 0.0671  (0.0537)\ttime: 1020ms  (1021ms)\n",
      "progress: 186/360 (51.67%)\taccuracy: 98.44%   (98.19%)\tloss: 0.0192  (0.0433)\ttime: 1021ms  (1021ms)\n",
      "progress: 187/360 (51.94%)\taccuracy: 98.44%   (98.26%)\tloss: 0.0383  (0.0418)\ttime: 1024ms  (1022ms)\n",
      "progress: 188/360 (52.22%)\taccuracy: 96.88%   (97.85%)\tloss: 0.1102  (0.0623)\ttime: 1017ms  (1020ms)\n",
      "progress: 189/360 (52.50%)\taccuracy: 98.44%   (98.02%)\tloss: 0.0452  (0.0572)\ttime: 1043ms  (1027ms)\n",
      "progress: 190/360 (52.78%)\taccuracy: 98.44%   (98.15%)\tloss: 0.0323  (0.0497)\ttime: 1031ms  (1028ms)\n",
      "progress: 191/360 (53.06%)\taccuracy: 100.00%  (98.70%)\tloss: 0.0103  (0.0379)\ttime: 1024ms  (1027ms)\n",
      "progress: 192/360 (53.33%)\taccuracy: 98.44%   (98.62%)\tloss: 0.0273  (0.0347)\ttime: 1036ms  (1030ms)\n",
      "progress: 193/360 (53.61%)\taccuracy: 96.88%   (98.10%)\tloss: 0.0613  (0.0427)\ttime: 1050ms  (1036ms)\n",
      "progress: 194/360 (53.89%)\taccuracy: 98.44%   (98.20%)\tloss: 0.0431  (0.0428)\ttime: 1045ms  (1039ms)\n",
      "progress: 195/360 (54.17%)\taccuracy: 98.44%   (98.27%)\tloss: 0.0431  (0.0429)\ttime: 992ms   (1025ms)\n",
      "progress: 196/360 (54.44%)\taccuracy: 95.31%   (97.38%)\tloss: 0.0885  (0.0566)\ttime: 1003ms  (1018ms)\n",
      "progress: 197/360 (54.72%)\taccuracy: 95.31%   (96.76%)\tloss: 0.0872  (0.0658)\ttime: 1037ms  (1024ms)\n",
      "progress: 198/360 (55.00%)\taccuracy: 98.44%   (97.27%)\tloss: 0.0308  (0.0553)\ttime: 989ms   (1013ms)\n",
      "progress: 199/360 (55.28%)\taccuracy: 100.00%  (98.09%)\tloss: 0.0239  (0.0459)\ttime: 1032ms  (1019ms)\n",
      "progress: 200/360 (55.56%)\taccuracy: 93.75%   (96.78%)\tloss: 0.1576  (0.0794)\ttime: 986ms   (1009ms)\n",
      "progress: 201/360 (55.83%)\taccuracy: 98.44%   (97.28%)\tloss: 0.0380  (0.0670)\ttime: 1038ms  (1018ms)\n",
      "progress: 202/360 (56.11%)\taccuracy: 98.44%   (97.63%)\tloss: 0.0252  (0.0544)\ttime: 1019ms  (1018ms)\n",
      "progress: 203/360 (56.39%)\taccuracy: 98.44%   (97.87%)\tloss: 0.0469  (0.0522)\ttime: 1001ms  (1013ms)\n",
      "progress: 204/360 (56.67%)\taccuracy: 96.88%   (97.57%)\tloss: 0.0783  (0.0600)\ttime: 1028ms  (1018ms)\n",
      "progress: 205/360 (56.94%)\taccuracy: 93.75%   (96.43%)\tloss: 0.0725  (0.0638)\ttime: 1022ms  (1019ms)\n",
      "progress: 206/360 (57.22%)\taccuracy: 100.00%  (97.50%)\tloss: 0.0116  (0.0481)\ttime: 1050ms  (1028ms)\n",
      "progress: 207/360 (57.50%)\taccuracy: 98.44%   (97.78%)\tloss: 0.0279  (0.0421)\ttime: 1018ms  (1025ms)\n",
      "progress: 208/360 (57.78%)\taccuracy: 98.44%   (97.98%)\tloss: 0.0307  (0.0387)\ttime: 1038ms  (1029ms)\n",
      "progress: 209/360 (58.06%)\taccuracy: 96.88%   (97.65%)\tloss: 0.1112  (0.0604)\ttime: 1021ms  (1027ms)\n",
      "progress: 210/360 (58.33%)\taccuracy: 100.00%  (98.35%)\tloss: 0.0077  (0.0446)\ttime: 1034ms  (1029ms)\n",
      "progress: 211/360 (58.61%)\taccuracy: 100.00%  (98.85%)\tloss: 0.0067  (0.0332)\ttime: 1013ms  (1024ms)\n",
      "progress: 212/360 (58.89%)\taccuracy: 96.88%   (98.26%)\tloss: 0.0564  (0.0402)\ttime: 1019ms  (1023ms)\n",
      "progress: 213/360 (59.17%)\taccuracy: 100.00%  (98.78%)\tloss: 0.0085  (0.0307)\ttime: 1013ms  (1020ms)\n",
      "progress: 214/360 (59.44%)\taccuracy: 96.88%   (98.21%)\tloss: 0.0705  (0.0426)\ttime: 1059ms  (1032ms)\n",
      "progress: 215/360 (59.72%)\taccuracy: 100.00%  (98.75%)\tloss: 0.0061  (0.0317)\ttime: 1019ms  (1028ms)\n",
      "progress: 216/360 (60.00%)\taccuracy: 100.00%  (99.12%)\tloss: 0.0079  (0.0246)\ttime: 1031ms  (1029ms)\n",
      "progress: 217/360 (60.28%)\taccuracy: 100.00%  (99.39%)\tloss: 0.0137  (0.0213)\ttime: 1030ms  (1029ms)\n",
      "progress: 218/360 (60.56%)\taccuracy: 100.00%  (99.57%)\tloss: 0.0126  (0.0187)\ttime: 1024ms  (1028ms)\n",
      "progress: 219/360 (60.83%)\taccuracy: 100.00%  (99.70%)\tloss: 0.0051  (0.0146)\ttime: 1029ms  (1028ms)\n",
      "progress: 220/360 (61.11%)\taccuracy: 100.00%  (99.79%)\tloss: 0.0112  (0.0136)\ttime: 1003ms  (1021ms)\n",
      "progress: 221/360 (61.39%)\taccuracy: 100.00%  (99.85%)\tloss: 0.0138  (0.0136)\ttime: 1039ms  (1026ms)\n",
      "progress: 222/360 (61.67%)\taccuracy: 100.00%  (99.90%)\tloss: 0.0090  (0.0123)\ttime: 1020ms  (1024ms)\n",
      "progress: 223/360 (61.94%)\taccuracy: 96.88%   (98.99%)\tloss: 0.0447  (0.0220)\ttime: 1029ms  (1026ms)\n",
      "progress: 224/360 (62.22%)\taccuracy: 98.44%   (98.82%)\tloss: 0.0204  (0.0215)\ttime: 1032ms  (1027ms)\n",
      "progress: 225/360 (62.50%)\taccuracy: 98.44%   (98.71%)\tloss: 0.0271  (0.0232)\ttime: 1043ms  (1032ms)\n",
      "progress: 226/360 (62.78%)\taccuracy: 100.00%  (99.10%)\tloss: 0.0098  (0.0192)\ttime: 1030ms  (1032ms)\n",
      "progress: 227/360 (63.06%)\taccuracy: 100.00%  (99.37%)\tloss: 0.0098  (0.0163)\ttime: 1010ms  (1025ms)\n",
      "progress: 228/360 (63.33%)\taccuracy: 96.88%   (98.62%)\tloss: 0.0699  (0.0324)\ttime: 1005ms  (1019ms)\n",
      "progress: 229/360 (63.61%)\taccuracy: 100.00%  (99.03%)\tloss: 0.0059  (0.0244)\ttime: 1065ms  (1033ms)\n",
      "progress: 230/360 (63.89%)\taccuracy: 96.88%   (98.39%)\tloss: 0.0280  (0.0255)\ttime: 1023ms  (1030ms)\n",
      "progress: 231/360 (64.17%)\taccuracy: 96.88%   (97.93%)\tloss: 0.0620  (0.0365)\ttime: 1003ms  (1022ms)\n",
      "progress: 232/360 (64.44%)\taccuracy: 98.44%   (98.08%)\tloss: 0.0256  (0.0332)\ttime: 1067ms  (1036ms)\n",
      "progress: 233/360 (64.72%)\taccuracy: 96.88%   (97.72%)\tloss: 0.1553  (0.0698)\ttime: 1052ms  (1040ms)\n",
      "progress: 234/360 (65.00%)\taccuracy: 95.31%   (97.00%)\tloss: 0.0813  (0.0733)\ttime: 1036ms  (1039ms)\n",
      "progress: 235/360 (65.28%)\taccuracy: 98.44%   (97.43%)\tloss: 0.0347  (0.0617)\ttime: 1032ms  (1037ms)\n",
      "progress: 236/360 (65.56%)\taccuracy: 100.00%  (98.20%)\tloss: 0.0027  (0.0440)\ttime: 1041ms  (1038ms)\n",
      "progress: 237/360 (65.83%)\taccuracy: 98.44%   (98.27%)\tloss: 0.0504  (0.0459)\ttime: 1032ms  (1036ms)\n",
      "progress: 238/360 (66.11%)\taccuracy: 96.88%   (97.85%)\tloss: 0.0548  (0.0486)\ttime: 1013ms  (1029ms)\n",
      "progress: 239/360 (66.39%)\taccuracy: 96.88%   (97.56%)\tloss: 0.0646  (0.0534)\ttime: 1018ms  (1026ms)\n",
      "progress: 240/360 (66.67%)\taccuracy: 95.31%   (96.89%)\tloss: 0.0907  (0.0646)\ttime: 1011ms  (1021ms)\n",
      "progress: 241/360 (66.94%)\taccuracy: 100.00%  (97.82%)\tloss: 0.0236  (0.0523)\ttime: 1061ms  (1033ms)\n",
      "progress: 242/360 (67.22%)\taccuracy: 98.44%   (98.01%)\tloss: 0.0391  (0.0483)\ttime: 1016ms  (1028ms)\n",
      "progress: 243/360 (67.50%)\taccuracy: 100.00%  (98.60%)\tloss: 0.0104  (0.0370)\ttime: 996ms   (1018ms)\n",
      "progress: 244/360 (67.78%)\taccuracy: 98.44%   (98.55%)\tloss: 0.0824  (0.0506)\ttime: 1017ms  (1018ms)\n",
      "progress: 245/360 (68.06%)\taccuracy: 98.44%   (98.52%)\tloss: 0.0243  (0.0427)\ttime: 1013ms  (1016ms)\n",
      "progress: 246/360 (68.33%)\taccuracy: 98.44%   (98.49%)\tloss: 0.0716  (0.0514)\ttime: 1039ms  (1023ms)\n",
      "progress: 247/360 (68.61%)\taccuracy: 96.88%   (98.01%)\tloss: 0.0378  (0.0473)\ttime: 1027ms  (1024ms)\n",
      "progress: 248/360 (68.89%)\taccuracy: 93.75%   (96.73%)\tloss: 0.1387  (0.0747)\ttime: 1021ms  (1023ms)\n",
      "progress: 249/360 (69.17%)\taccuracy: 100.00%  (97.71%)\tloss: 0.0141  (0.0565)\ttime: 1101ms  (1047ms)\n",
      "progress: 250/360 (69.44%)\taccuracy: 100.00%  (98.40%)\tloss: 0.0055  (0.0412)\ttime: 1027ms  (1041ms)\n",
      "progress: 251/360 (69.72%)\taccuracy: 96.88%   (97.94%)\tloss: 0.0943  (0.0572)\ttime: 1015ms  (1033ms)\n",
      "progress: 252/360 (70.00%)\taccuracy: 100.00%  (98.56%)\tloss: 0.0052  (0.0416)\ttime: 1044ms  (1036ms)\n",
      "progress: 253/360 (70.28%)\taccuracy: 98.44%   (98.52%)\tloss: 0.0280  (0.0375)\ttime: 1041ms  (1038ms)\n",
      "progress: 254/360 (70.56%)\taccuracy: 96.88%   (98.03%)\tloss: 0.0356  (0.0369)\ttime: 1032ms  (1036ms)\n",
      "progress: 255/360 (70.83%)\taccuracy: 96.88%   (97.68%)\tloss: 0.0745  (0.0482)\ttime: 979ms   (1019ms)\n",
      "progress: 256/360 (71.11%)\taccuracy: 100.00%  (98.38%)\tloss: 0.0179  (0.0391)\ttime: 1036ms  (1024ms)\n",
      "progress: 257/360 (71.39%)\taccuracy: 96.88%   (97.93%)\tloss: 0.0348  (0.0378)\ttime: 1010ms  (1020ms)\n",
      "progress: 258/360 (71.67%)\taccuracy: 100.00%  (98.55%)\tloss: 0.0098  (0.0294)\ttime: 984ms   (1009ms)\n",
      "progress: 259/360 (71.94%)\taccuracy: 95.31%   (97.58%)\tloss: 0.1465  (0.0645)\ttime: 1038ms  (1018ms)\n",
      "progress: 260/360 (72.22%)\taccuracy: 100.00%  (98.30%)\tloss: 0.0125  (0.0489)\ttime: 1027ms  (1021ms)\n",
      "progress: 261/360 (72.50%)\taccuracy: 95.31%   (97.41%)\tloss: 0.1519  (0.0798)\ttime: 989ms   (1011ms)\n",
      "progress: 262/360 (72.78%)\taccuracy: 98.44%   (97.72%)\tloss: 0.0287  (0.0645)\ttime: 1013ms  (1012ms)\n",
      "progress: 263/360 (73.06%)\taccuracy: 100.00%  (98.40%)\tloss: 0.0029  (0.0460)\ttime: 1005ms  (1010ms)\n",
      "progress: 264/360 (73.33%)\taccuracy: 98.44%   (98.41%)\tloss: 0.0209  (0.0385)\ttime: 1032ms  (1016ms)\n",
      "progress: 265/360 (73.61%)\taccuracy: 96.88%   (97.95%)\tloss: 0.0727  (0.0487)\ttime: 1017ms  (1017ms)\n",
      "progress: 266/360 (73.89%)\taccuracy: 98.44%   (98.10%)\tloss: 0.0267  (0.0421)\ttime: 1042ms  (1024ms)\n",
      "progress: 267/360 (74.17%)\taccuracy: 89.06%   (95.39%)\tloss: 0.3177  (0.1248)\ttime: 1021ms  (1023ms)\n",
      "progress: 268/360 (74.44%)\taccuracy: 98.44%   (96.30%)\tloss: 0.1027  (0.1182)\ttime: 1030ms  (1025ms)\n",
      "progress: 269/360 (74.72%)\taccuracy: 100.00%  (97.41%)\tloss: 0.0167  (0.0877)\ttime: 1032ms  (1028ms)\n",
      "progress: 270/360 (75.00%)\taccuracy: 92.19%   (95.84%)\tloss: 0.1989  (0.1211)\ttime: 1012ms  (1023ms)\n",
      "progress: 271/360 (75.28%)\taccuracy: 100.00%  (97.09%)\tloss: 0.0123  (0.0884)\ttime: 1021ms  (1022ms)\n",
      "progress: 272/360 (75.56%)\taccuracy: 96.88%   (97.03%)\tloss: 0.0977  (0.0912)\ttime: 1024ms  (1023ms)\n",
      "progress: 273/360 (75.83%)\taccuracy: 98.44%   (97.45%)\tloss: 0.0418  (0.0764)\ttime: 1020ms  (1022ms)\n",
      "progress: 274/360 (76.11%)\taccuracy: 96.88%   (97.28%)\tloss: 0.0525  (0.0692)\ttime: 1033ms  (1025ms)\n",
      "progress: 275/360 (76.39%)\taccuracy: 100.00%  (98.09%)\tloss: 0.0122  (0.0521)\ttime: 1037ms  (1029ms)\n",
      "progress: 276/360 (76.67%)\taccuracy: 100.00%  (98.67%)\tloss: 0.0134  (0.0405)\ttime: 1015ms  (1025ms)\n",
      "progress: 277/360 (76.94%)\taccuracy: 95.31%   (97.66%)\tloss: 0.0863  (0.0542)\ttime: 998ms   (1017ms)\n",
      "progress: 278/360 (77.22%)\taccuracy: 98.44%   (97.89%)\tloss: 0.0285  (0.0465)\ttime: 1037ms  (1023ms)\n",
      "progress: 279/360 (77.50%)\taccuracy: 95.31%   (97.12%)\tloss: 0.1248  (0.0700)\ttime: 1019ms  (1022ms)\n",
      "progress: 280/360 (77.78%)\taccuracy: 96.88%   (97.05%)\tloss: 0.1343  (0.0893)\ttime: 1034ms  (1025ms)\n",
      "progress: 281/360 (78.06%)\taccuracy: 96.88%   (96.99%)\tloss: 0.0492  (0.0773)\ttime: 1056ms  (1035ms)\n",
      "progress: 282/360 (78.33%)\taccuracy: 96.88%   (96.96%)\tloss: 0.0702  (0.0751)\ttime: 1010ms  (1027ms)\n",
      "progress: 283/360 (78.61%)\taccuracy: 98.44%   (97.40%)\tloss: 0.0170  (0.0577)\ttime: 1004ms  (1020ms)\n",
      "progress: 284/360 (78.89%)\taccuracy: 98.44%   (97.71%)\tloss: 0.0395  (0.0522)\ttime: 994ms   (1012ms)\n",
      "progress: 285/360 (79.17%)\taccuracy: 98.44%   (97.93%)\tloss: 0.0287  (0.0452)\ttime: 1030ms  (1018ms)\n",
      "progress: 286/360 (79.44%)\taccuracy: 100.00%  (98.55%)\tloss: 0.0185  (0.0372)\ttime: 1010ms  (1015ms)\n",
      "progress: 287/360 (79.72%)\taccuracy: 100.00%  (98.99%)\tloss: 0.0094  (0.0288)\ttime: 1021ms  (1017ms)\n",
      "progress: 288/360 (80.00%)\taccuracy: 98.44%   (98.82%)\tloss: 0.0262  (0.0280)\ttime: 1008ms  (1014ms)\n",
      "progress: 289/360 (80.28%)\taccuracy: 98.44%   (98.71%)\tloss: 0.0339  (0.0298)\ttime: 1010ms  (1013ms)\n",
      "progress: 290/360 (80.56%)\taccuracy: 96.88%   (98.16%)\tloss: 0.1566  (0.0678)\ttime: 1010ms  (1012ms)\n",
      "progress: 291/360 (80.83%)\taccuracy: 100.00%  (98.71%)\tloss: 0.0241  (0.0547)\ttime: 1010ms  (1012ms)\n",
      "progress: 292/360 (81.11%)\taccuracy: 100.00%  (99.10%)\tloss: 0.0192  (0.0441)\ttime: 1016ms  (1013ms)\n",
      "progress: 293/360 (81.39%)\taccuracy: 96.88%   (98.43%)\tloss: 0.0410  (0.0431)\ttime: 1006ms  (1011ms)\n",
      "progress: 294/360 (81.67%)\taccuracy: 98.44%   (98.43%)\tloss: 0.0388  (0.0418)\ttime: 1028ms  (1016ms)\n",
      "progress: 295/360 (81.94%)\taccuracy: 96.88%   (97.97%)\tloss: 0.0537  (0.0454)\ttime: 1013ms  (1015ms)\n",
      "progress: 296/360 (82.22%)\taccuracy: 100.00%  (98.58%)\tloss: 0.0188  (0.0374)\ttime: 1021ms  (1017ms)\n",
      "progress: 297/360 (82.50%)\taccuracy: 98.44%   (98.53%)\tloss: 0.0664  (0.0461)\ttime: 1012ms  (1015ms)\n",
      "progress: 298/360 (82.78%)\taccuracy: 96.88%   (98.04%)\tloss: 0.0396  (0.0441)\ttime: 1017ms  (1016ms)\n",
      "progress: 299/360 (83.06%)\taccuracy: 98.44%   (98.16%)\tloss: 0.0216  (0.0374)\ttime: 1031ms  (1020ms)\n",
      "progress: 300/360 (83.33%)\taccuracy: 98.44%   (98.24%)\tloss: 0.0456  (0.0398)\ttime: 1024ms  (1021ms)\n",
      "progress: 301/360 (83.61%)\taccuracy: 96.88%   (97.83%)\tloss: 0.1011  (0.0582)\ttime: 1011ms  (1018ms)\n",
      "progress: 302/360 (83.89%)\taccuracy: 98.44%   (98.01%)\tloss: 0.0637  (0.0599)\ttime: 1015ms  (1017ms)\n",
      "progress: 303/360 (84.17%)\taccuracy: 100.00%  (98.61%)\tloss: 0.0071  (0.0440)\ttime: 1026ms  (1020ms)\n",
      "progress: 304/360 (84.44%)\taccuracy: 98.44%   (98.56%)\tloss: 0.0295  (0.0397)\ttime: 1064ms  (1033ms)\n",
      "progress: 305/360 (84.72%)\taccuracy: 100.00%  (98.99%)\tloss: 0.0083  (0.0303)\ttime: 1036ms  (1034ms)\n",
      "progress: 306/360 (85.00%)\taccuracy: 95.31%   (97.89%)\tloss: 0.1178  (0.0565)\ttime: 1040ms  (1036ms)\n",
      "progress: 307/360 (85.28%)\taccuracy: 100.00%  (98.52%)\tloss: 0.0107  (0.0428)\ttime: 1014ms  (1029ms)\n",
      "progress: 308/360 (85.56%)\taccuracy: 98.44%   (98.50%)\tloss: 0.0326  (0.0397)\ttime: 1023ms  (1027ms)\n",
      "progress: 309/360 (85.83%)\taccuracy: 100.00%  (98.95%)\tloss: 0.0092  (0.0306)\ttime: 1041ms  (1031ms)\n",
      "progress: 310/360 (86.11%)\taccuracy: 100.00%  (99.26%)\tloss: 0.0038  (0.0225)\ttime: 1042ms  (1034ms)\n",
      "progress: 311/360 (86.39%)\taccuracy: 95.31%   (98.08%)\tloss: 0.1010  (0.0461)\ttime: 1015ms  (1029ms)\n",
      "progress: 312/360 (86.67%)\taccuracy: 98.44%   (98.19%)\tloss: 0.0252  (0.0398)\ttime: 1032ms  (1029ms)\n",
      "progress: 313/360 (86.94%)\taccuracy: 96.88%   (97.79%)\tloss: 0.0673  (0.0481)\ttime: 997ms   (1020ms)\n",
      "progress: 314/360 (87.22%)\taccuracy: 98.44%   (97.99%)\tloss: 0.0475  (0.0479)\ttime: 1027ms  (1022ms)\n",
      "progress: 315/360 (87.50%)\taccuracy: 96.88%   (97.65%)\tloss: 0.0901  (0.0606)\ttime: 1002ms  (1016ms)\n",
      "progress: 316/360 (87.78%)\taccuracy: 98.44%   (97.89%)\tloss: 0.0418  (0.0549)\ttime: 1031ms  (1020ms)\n",
      "progress: 317/360 (88.06%)\taccuracy: 100.00%  (98.52%)\tloss: 0.0131  (0.0424)\ttime: 1019ms  (1020ms)\n",
      "progress: 318/360 (88.33%)\taccuracy: 100.00%  (98.97%)\tloss: 0.0133  (0.0336)\ttime: 1004ms  (1015ms)\n",
      "progress: 319/360 (88.61%)\taccuracy: 98.44%   (98.81%)\tloss: 0.0475  (0.0378)\ttime: 1014ms  (1015ms)\n",
      "progress: 320/360 (88.89%)\taccuracy: 93.75%   (97.29%)\tloss: 0.1373  (0.0677)\ttime: 1035ms  (1021ms)\n",
      "progress: 321/360 (89.17%)\taccuracy: 96.88%   (97.17%)\tloss: 0.0514  (0.0628)\ttime: 1038ms  (1026ms)\n",
      "progress: 322/360 (89.44%)\taccuracy: 98.44%   (97.55%)\tloss: 0.0337  (0.0541)\ttime: 1030ms  (1027ms)\n",
      "progress: 323/360 (89.72%)\taccuracy: 96.88%   (97.35%)\tloss: 0.0588  (0.0555)\ttime: 1037ms  (1030ms)\n",
      "progress: 324/360 (90.00%)\taccuracy: 98.44%   (97.67%)\tloss: 0.0595  (0.0567)\ttime: 1031ms  (1030ms)\n",
      "progress: 325/360 (90.28%)\taccuracy: 98.44%   (97.90%)\tloss: 0.0352  (0.0502)\ttime: 1022ms  (1028ms)\n",
      "progress: 326/360 (90.56%)\taccuracy: 92.19%   (96.19%)\tloss: 0.0961  (0.0640)\ttime: 1001ms  (1020ms)\n",
      "progress: 327/360 (90.83%)\taccuracy: 96.88%   (96.39%)\tloss: 0.0389  (0.0565)\ttime: 1010ms  (1017ms)\n",
      "progress: 328/360 (91.11%)\taccuracy: 100.00%  (97.48%)\tloss: 0.0066  (0.0415)\ttime: 1004ms  (1013ms)\n",
      "progress: 329/360 (91.39%)\taccuracy: 98.44%   (97.76%)\tloss: 0.0471  (0.0432)\ttime: 1016ms  (1014ms)\n",
      "progress: 330/360 (91.67%)\taccuracy: 100.00%  (98.44%)\tloss: 0.0146  (0.0346)\ttime: 1024ms  (1017ms)\n",
      "progress: 331/360 (91.94%)\taccuracy: 98.44%   (98.44%)\tloss: 0.0454  (0.0378)\ttime: 1015ms  (1016ms)\n",
      "progress: 332/360 (92.22%)\taccuracy: 98.44%   (98.44%)\tloss: 0.0476  (0.0408)\ttime: 1000ms  (1011ms)\n",
      "progress: 333/360 (92.50%)\taccuracy: 100.00%  (98.91%)\tloss: 0.0086  (0.0311)\ttime: 1054ms  (1024ms)\n",
      "progress: 334/360 (92.78%)\taccuracy: 100.00%  (99.23%)\tloss: 0.0112  (0.0251)\ttime: 1009ms  (1020ms)\n",
      "progress: 335/360 (93.06%)\taccuracy: 100.00%  (99.46%)\tloss: 0.0076  (0.0199)\ttime: 1035ms  (1024ms)\n",
      "progress: 336/360 (93.33%)\taccuracy: 100.00%  (99.62%)\tloss: 0.0121  (0.0176)\ttime: 1006ms  (1019ms)\n",
      "progress: 337/360 (93.61%)\taccuracy: 98.44%   (99.27%)\tloss: 0.0485  (0.0268)\ttime: 1040ms  (1025ms)\n",
      "progress: 338/360 (93.89%)\taccuracy: 100.00%  (99.49%)\tloss: 0.0236  (0.0259)\ttime: 1028ms  (1026ms)\n",
      "progress: 339/360 (94.17%)\taccuracy: 100.00%  (99.64%)\tloss: 0.0302  (0.0271)\ttime: 997ms   (1018ms)\n",
      "progress: 340/360 (94.44%)\taccuracy: 100.00%  (99.75%)\tloss: 0.0079  (0.0214)\ttime: 1019ms  (1018ms)\n",
      "progress: 341/360 (94.72%)\taccuracy: 98.44%   (99.36%)\tloss: 0.0295  (0.0238)\ttime: 1019ms  (1018ms)\n",
      "progress: 342/360 (95.00%)\taccuracy: 98.44%   (99.08%)\tloss: 0.0513  (0.0321)\ttime: 1059ms  (1030ms)\n",
      "progress: 343/360 (95.28%)\taccuracy: 98.44%   (98.89%)\tloss: 0.0371  (0.0336)\ttime: 1036ms  (1032ms)\n",
      "progress: 344/360 (95.56%)\taccuracy: 95.31%   (97.81%)\tloss: 0.0882  (0.0500)\ttime: 1045ms  (1036ms)\n",
      "progress: 345/360 (95.83%)\taccuracy: 98.44%   (98.00%)\tloss: 0.0564  (0.0519)\ttime: 1002ms  (1026ms)\n",
      "progress: 346/360 (96.11%)\taccuracy: 96.88%   (97.66%)\tloss: 0.0587  (0.0539)\ttime: 1009ms  (1021ms)\n",
      "progress: 347/360 (96.39%)\taccuracy: 92.19%   (96.02%)\tloss: 0.1059  (0.0695)\ttime: 1035ms  (1025ms)\n",
      "progress: 348/360 (96.67%)\taccuracy: 98.44%   (96.75%)\tloss: 0.0324  (0.0584)\ttime: 1008ms  (1020ms)\n",
      "progress: 349/360 (96.94%)\taccuracy: 93.75%   (95.85%)\tloss: 0.1309  (0.0801)\ttime: 1014ms  (1018ms)\n",
      "progress: 350/360 (97.22%)\taccuracy: 90.62%   (94.28%)\tloss: 0.2172  (0.1212)\ttime: 1013ms  (1016ms)\n",
      "progress: 351/360 (97.50%)\taccuracy: 95.31%   (94.59%)\tloss: 0.0858  (0.1106)\ttime: 1028ms  (1020ms)\n",
      "progress: 352/360 (97.78%)\taccuracy: 100.00%  (96.21%)\tloss: 0.0225  (0.0842)\ttime: 1008ms  (1016ms)\n",
      "progress: 353/360 (98.06%)\taccuracy: 96.88%   (96.41%)\tloss: 0.0626  (0.0777)\ttime: 1063ms  (1030ms)\n",
      "progress: 354/360 (98.33%)\taccuracy: 100.00%  (97.49%)\tloss: 0.0244  (0.0617)\ttime: 1018ms  (1027ms)\n",
      "progress: 355/360 (98.61%)\taccuracy: 100.00%  (98.24%)\tloss: 0.0124  (0.0469)\ttime: 1002ms  (1019ms)\n",
      "progress: 356/360 (98.89%)\taccuracy: 95.31%   (97.36%)\tloss: 0.0750  (0.0553)\ttime: 1031ms  (1023ms)\n",
      "progress: 357/360 (99.17%)\taccuracy: 98.44%   (97.69%)\tloss: 0.0245  (0.0461)\ttime: 1030ms  (1025ms)\n",
      "progress: 358/360 (99.44%)\taccuracy: 100.00%  (98.38%)\tloss: 0.0093  (0.0350)\ttime: 1015ms  (1022ms)\n",
      "progress: 359/360 (99.72%)\taccuracy: 98.44%   (98.40%)\tloss: 0.0444  (0.0379)\ttime: 1010ms  (1018ms)\n",
      "progress: 360/360 (100.00%)\taccuracy: 100.00%  (98.88%)\tloss: 0.0098  (0.0294)\ttime: 393ms   (831ms) \n",
      "################################################################################\n",
      "Epoch summary:\n",
      "accuracy: 97.93% \tloss: 0.0553\ttime: 1017ms\n",
      "################################################################################\n"
     ]
    }
   ],
   "source": [
    "t = getTrainer()\n",
    "epochs = 1\n",
    "t.run(epochs)"
   ]
  },
  {
   "cell_type": "code",
   "execution_count": 46,
   "metadata": {
    "collapsed": false,
    "deletable": true,
    "editable": true
   },
   "outputs": [],
   "source": [
    "# Define some helper functions\n",
    "\n",
    "def denorm(tensor):\n",
    "    # Undo the image normalization + clamp between 0 and 1 to avoid image artifacts\n",
    "    for t, m, s in zip(tensor, [0.485, 0.456, 0.406], [0.229, 0.224, 0.225]): \n",
    "        t.mul_(s).add_(m).clamp_(0, 1)\n",
    "    return tensor\n",
    "\n",
    "def get_images_to_plot(images_tensor):\n",
    "    denormalize = transforms.Compose([\n",
    "        transforms.Lambda(denorm)\n",
    "    ])\n",
    "    return denormalize(images_tensor)\n",
    "\n",
    "def get_classes_strings(classes, labels_ids):\n",
    "    # returns the classes in string format\n",
    "    return [classes[label_id] for label_id in labels_ids]\n",
    "\n",
    "def get_prediction_classes_ids(predictions):\n",
    "    # returns the predictions in id format\n",
    "    predictions_ids = predictions.cpu().data.numpy().argmax(1)\n",
    "    return predictions_ids\n",
    "\n",
    "def get_prediction_classes_strings(classes, predictions):\n",
    "    # returns the predictions in string format\n",
    "    return get_classes_strings(classes, get_prediction_classes_ids(predictions))"
   ]
  },
  {
   "cell_type": "code",
   "execution_count": 56,
   "metadata": {
    "collapsed": false,
    "deletable": true,
    "editable": true
   },
   "outputs": [
    {
     "name": "stdout",
     "output_type": "stream",
     "text": [
      "['cats', 'dogs', 'cats', 'cats', 'cats', 'dogs', 'dogs', 'cats']\n"
     ]
    },
    {
     "data": {
      "image/png": "[encoded data removed]",
      "text/plain": [
       "<matplotlib.figure.Figure at 0x7f02fccc0160>"
      ]
     },
     "metadata": {},
     "output_type": "display_data"
    }
   ],
   "source": [
    "# display a sample set of images and their labels\n",
    "loader, folder = get_data_loader(valdir, batch_size = 8)\n",
    "images, labels = next(iter(loader))\n",
    "show(make_grid(get_images_to_plot(images), padding=100))\n",
    "labels_string = get_classes_strings(classes, labels.numpy())\n",
    "print(labels_string)"
   ]
  },
  {
   "cell_type": "code",
   "execution_count": 57,
   "metadata": {
    "collapsed": false,
    "deletable": true,
    "editable": true
   },
   "outputs": [
    {
     "name": "stdout",
     "output_type": "stream",
     "text": [
      "['cats', 'dogs', 'cats', 'cats', 'cats', 'dogs', 'dogs', 'cats']\n"
     ]
    }
   ],
   "source": [
    "# display the predictons for the images above\n",
    "if use_cuda:\n",
    "    images = images.cuda()\n",
    "predictions = model(Variable(images))\n",
    "predictions_string = get_prediction_classes_strings(classes, predictions)\n",
    "print(predictions_string)"
   ]
  },
  {
   "cell_type": "code",
   "execution_count": 49,
   "metadata": {
    "collapsed": true
   },
   "outputs": [],
   "source": [
    "import sys\n",
    "\n",
    "def get_accuracy(val_loader):\n",
    "    # Process each mini-batch and accumulate all correct classifications\n",
    "    correct = 0\n",
    "    num_batches = sum(1 for b in enumerate(val_loader))\n",
    "    batches = enumerate(val_loader)\n",
    "    for i, (images, labels) in batches:\n",
    "        sys.stdout.write('\\rBatch: {:d}/{:d}'.format(i + 1, num_batches))\n",
    "        sys.stdout.flush()\n",
    "        if use_cuda:\n",
    "            images = images.cuda()\n",
    "        predictions = model(Variable(images))\n",
    "        prediction_classes_ids = torch.from_numpy(get_prediction_classes_ids(predictions))\n",
    "        correct += labels.eq(prediction_classes_ids).sum()\n",
    "    # Avoid carriage return\n",
    "    print('')\n",
    "    return 100.0 * correct / len(val_loader.dataset.imgs)"
   ]
  },
  {
   "cell_type": "code",
   "execution_count": 50,
   "metadata": {
    "collapsed": false,
    "deletable": true,
    "editable": true
   },
   "outputs": [],
   "source": [
    "import sys\n",
    "\n",
    "def predict(loader, on_batch_predictions):\n",
    "    # Process each mini-batch and accumulate all correct classifications\n",
    "    all_predictions = [] # holds probabilities for every file id\n",
    "    num_batches = sum(1 for b in enumerate(loader))\n",
    "    batches = enumerate(loader)\n",
    "    result = 0\n",
    "    for i, (images, labels) in batches:\n",
    "        sys.stdout.write('\\rBatch: {:d}/{:d}'.format(i + 1, num_batches))\n",
    "        sys.stdout.flush()\n",
    "        if use_cuda:\n",
    "            images = images.cuda()\n",
    "        predictions = model(Variable(images))\n",
    "        result = on_batch_predictions(images, labels, predictions)\n",
    "    # Avoid carriage return\n",
    "    print('')\n",
    "    return result\n",
    "\n",
    "def get_correct_predictions():\n",
    "    correct = 0\n",
    "    def count_correct_predictions(images, labels, predictions):\n",
    "        nonlocal correct\n",
    "        prediction_classes_ids = torch.from_numpy(get_prediction_classes_ids(predictions))\n",
    "        correct += labels.eq(prediction_classes_ids).sum()\n",
    "        return correct\n",
    "    return count_correct_predictions\n",
    "\n",
    "def get_all_predictions(loader):\n",
    "    num_test_images = len(testfolder.imgs)\n",
    "    all_predictions = np.empty(num_test_images, dtype=np.float_)\n",
    "    \n",
    "    image_ids = [int(path[0].rsplit('/',1)[1].replace(\".jpg\",\"\")) - 1 for path in loader.dataset.imgs]\n",
    "    # print(image_ids)\n",
    "    current_image = 0\n",
    "    \n",
    "    def append_predictions(images, labels, predictions):\n",
    "        nonlocal all_predictions\n",
    "        nonlocal current_image\n",
    "        dog_class_id = val_loader.dataset.class_to_idx['dogs']\n",
    "        # Clamp between 0.05 and 0.95 to avoid being heavily penalized on mistakes\n",
    "        predictions_prob = F.softmax(predictions).data.clamp_(0.05, 0.95)\n",
    "        batch_predictions = predictions_prob[:,dog_class_id].cpu().numpy()\n",
    "        for dog_prob in batch_predictions:\n",
    "            image_id = image_ids[current_image]\n",
    "            all_predictions[image_id] = dog_prob\n",
    "            current_image += 1\n",
    "        return all_predictions\n",
    "    return append_predictions"
   ]
  },
  {
   "cell_type": "code",
   "execution_count": 53,
   "metadata": {
    "collapsed": false,
    "deletable": true,
    "editable": true
   },
   "outputs": [
    {
     "name": "stdout",
     "output_type": "stream",
     "text": [
      "Batch: 32/32\n",
      "Accuracy for validation set: 57.85\n"
     ]
    }
   ],
   "source": [
    "print('Accuracy for validation set: {}'.format(get_accuracy(val_loader)))"
   ]
  },
  {
   "cell_type": "code",
   "execution_count": 36,
   "metadata": {
    "collapsed": false,
    "deletable": true,
    "editable": true
   },
   "outputs": [
    {
     "name": "stdout",
     "output_type": "stream",
     "text": [
      "Batch: 1/1\n",
      "Accuracy for validation set: 85.0\n"
     ]
    }
   ],
   "source": [
    "correct_count = predict(val_loader, get_correct_predictions())\n",
    "precision = 100.0 * correct_count / len(val_loader.dataset.imgs)\n",
    "print('Accuracy for validation set: {}'.format(precision))"
   ]
  },
  {
   "cell_type": "code",
   "execution_count": 92,
   "metadata": {
    "collapsed": true,
    "deletable": true,
    "editable": true
   },
   "outputs": [],
   "source": [
    "import csv\n",
    "import sys\n",
    "\n",
    "def save_kaggle_predictions():\n",
    "    all_predictions = predict(test_loader, get_all_predictions(test_loader))\n",
    "    with open(\"data/dogscats/predictions-resnet.csv\", \"wt\") as f:\n",
    "        writer = csv.writer(f)\n",
    "        writer.writerow((\"id\",\"label\"))\n",
    "        for i, is_dog_probability in enumerate(all_predictions):\n",
    "            row = (\n",
    "                i + 1,\n",
    "                is_dog_probability\n",
    "            )\n",
    "            writer.writerow(row)"
   ]
  },
  {
   "cell_type": "code",
   "execution_count": 93,
   "metadata": {
    "collapsed": false,
    "deletable": true,
    "editable": true
   },
   "outputs": [
    {
     "name": "stdout",
     "output_type": "stream",
     "text": [
      "Batch: 4/4\n"
     ]
    }
   ],
   "source": [
    "save_kaggle_predictions()"
   ]
  }
 ],
 "metadata": {
  "kernelspec": {
   "display_name": "Python 3",
   "language": "python",
   "name": "python3"
  },
  "language_info": {
   "codemirror_mode": {
    "name": "ipython",
    "version": 3
   },
   "file_extension": ".py",
   "mimetype": "text/x-python",
   "name": "python",
   "nbconvert_exporter": "python",
   "pygments_lexer": "ipython3",
   "version": "3.5.2"
  }
 },
 "nbformat": 4,
 "nbformat_minor": 2
}
