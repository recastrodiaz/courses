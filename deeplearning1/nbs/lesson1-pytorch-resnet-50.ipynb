{
 "cells": [
  {
   "cell_type": "markdown",
   "metadata": {
    "deletable": true,
    "editable": true
   },
   "source": [
    "# Dogs vs Cats, ResNet 50 fine-tuned classifier"
   ]
  },
  {
   "cell_type": "code",
   "execution_count": 32,
   "metadata": {
    "collapsed": false,
    "deletable": true,
    "editable": true
   },
   "outputs": [],
   "source": [
    "import torch\n",
    "import torchvision.models as models\n",
    "import torchvision.transforms as transforms\n",
    "import torchvision.datasets as datasets\n",
    "from torchvision.utils import make_grid\n",
    "from PIL import Image\n",
    "import matplotlib.pyplot as plt\n",
    "import torch.nn as nn\n",
    "import torch.nn.functional as F\n",
    "import torch.optim as optim\n",
    "import torch.utils.trainer as trainer\n",
    "import torch.utils.trainer.plugins\n",
    "from torch.autograd import Variable\n",
    "import numpy as np\n",
    "import os"
   ]
  },
  {
   "cell_type": "code",
   "execution_count": 2,
   "metadata": {
    "collapsed": true,
    "deletable": true,
    "editable": true
   },
   "outputs": [],
   "source": [
    "%matplotlib inline\n",
    "def show(img):\n",
    "    npimg = img.numpy()\n",
    "    plt.imshow(np.transpose(npimg, (1,2,0)), interpolation='nearest')"
   ]
  },
  {
   "cell_type": "code",
   "execution_count": 3,
   "metadata": {
    "collapsed": false,
    "deletable": true,
    "editable": true
   },
   "outputs": [
    {
     "name": "stdout",
     "output_type": "stream",
     "text": [
      "Using CUDA: False\n"
     ]
    }
   ],
   "source": [
    "# data_path = \"data/dogscats/\"\n",
    "data_path = \"data/dogscats/sample/\"\n",
    "use_cuda = False\n",
    "batch_size = 10\n",
    "print('Using CUDA:', use_cuda)"
   ]
  },
  {
   "cell_type": "code",
   "execution_count": 4,
   "metadata": {
    "collapsed": false,
    "deletable": true,
    "editable": true
   },
   "outputs": [],
   "source": [
    "# Data loading code\n",
    "traindir = os.path.join(data_path, 'train')\n",
    "valdir = os.path.join(data_path, 'valid')\n",
    "testdir = os.path.join(data_path, 'test1')\n",
    "\n",
    "# pytorch way of implementing fastai's get_batches, (utils.py)\n",
    "def get_data_loader(dirname, shuffle=True, batch_size = 64):\n",
    "    # pytorch's VGG requires images to be 224x224 and normalized using https://github.com/pytorch/vision#models\n",
    "    normalize = transforms.Compose([\n",
    "        transforms.Lambda(lambda img: img.resize((224, 224), Image.BILINEAR)),\n",
    "        transforms.ToTensor(),\n",
    "        transforms.Normalize(mean=[0.485, 0.456, 0.406], std=[0.229, 0.224, 0.225]),\n",
    "    ])\n",
    "    \n",
    "    image_folder = datasets.ImageFolder(dirname, normalize)\n",
    "    return torch.utils.data.DataLoader(image_folder, batch_size=batch_size, shuffle=shuffle, pin_memory=use_cuda)\n",
    "\n",
    "train_loader = get_data_loader(traindir, batch_size=batch_size)\n",
    "val_loader = get_data_loader(valdir, shuffle=False, batch_size=batch_size)\n",
    "test_loader = get_data_loader(valdir, shuffle=False, batch_size=batch_size)"
   ]
  },
  {
   "cell_type": "code",
   "execution_count": 77,
   "metadata": {
    "collapsed": false,
    "deletable": true,
    "editable": true
   },
   "outputs": [],
   "source": [
    "# Load the model\n",
    "model = models.resnet50(pretrained=True)"
   ]
  },
  {
   "cell_type": "code",
   "execution_count": 78,
   "metadata": {
    "collapsed": false,
    "deletable": true,
    "editable": true
   },
   "outputs": [
    {
     "name": "stdout",
     "output_type": "stream",
     "text": [
      "Using 2 classes: ['cats', 'dogs']\n"
     ]
    }
   ],
   "source": [
    "# Finetune by replacing the last fully connected layer and freezing all network parameters\n",
    "for param in model.parameters():\n",
    "    param.requires_grad = False\n",
    "\n",
    "# Replace the last fully-connected layer matching the new class count\n",
    "classes = train_loader.dataset.classes\n",
    "num_classes = len(classes)\n",
    "print('Using {:d} classes: {}'.format(num_classes, classes))\n",
    "expansion = 4 # TODO use Bottleneck.expansion instead\n",
    "model.fc = nn.Linear(512 * expansion, num_classes)"
   ]
  },
  {
   "cell_type": "code",
   "execution_count": 79,
   "metadata": {
    "collapsed": false,
    "deletable": true,
    "editable": true
   },
   "outputs": [],
   "source": [
    "# define loss function (criterion) and optimizer\n",
    "criterion = nn.CrossEntropyLoss()\n",
    "# enable cuda if available\n",
    "if(use_cuda):\n",
    "    model.cuda()\n",
    "    criterion.cuda()\n",
    "optimizer = optim.SGD(model.fc.parameters(), lr=1e-2, momentum=0.9)"
   ]
  },
  {
   "cell_type": "code",
   "execution_count": 80,
   "metadata": {
    "collapsed": false,
    "deletable": true,
    "editable": true
   },
   "outputs": [
    {
     "name": "stdout",
     "output_type": "stream",
     "text": [
      "progress: 1/10 (10.00%)\taccuracy: 75.00%  (22.50%)\tloss: 0.5343  (0.1603)\ttime: 0ms  (0ms)\n",
      "progress: 2/10 (20.00%)\taccuracy: 50.00%  (30.75%)\tloss: 0.6454  (0.3058)\ttime: 1163ms  (349ms)\n",
      "progress: 3/10 (30.00%)\taccuracy: 100.00%  (51.53%)\tloss: 0.3723  (0.3258)\ttime: 1145ms  (588ms)\n",
      "progress: 4/10 (40.00%)\taccuracy: 100.00%  (66.07%)\tloss: 0.0359  (0.2388)\ttime: 1145ms  (755ms)\n",
      "progress: 5/10 (50.00%)\taccuracy: 50.00%   (61.25%)\tloss: 2.5447  (0.9306)\ttime: 1127ms  (866ms)\n",
      "progress: 6/10 (60.00%)\taccuracy: 0.00%    (42.87%)\tloss: 3.6036  (1.7325)\ttime: 1158ms  (954ms)\n",
      "progress: 7/10 (70.00%)\taccuracy: 75.00%   (52.51%)\tloss: 1.2190  (1.5784)\ttime: 1128ms  (1006ms)\n",
      "progress: 8/10 (80.00%)\taccuracy: 25.00%   (44.26%)\tloss: 10.4158  (4.2296)\ttime: 1149ms  (1049ms)\n",
      "progress: 9/10 (90.00%)\taccuracy: 25.00%   (38.48%)\tloss: 9.4275   (5.7890)\ttime: 1140ms  (1076ms)\n",
      "progress: 10/10 (100.00%)\taccuracy: 75.00%   (49.44%)\tloss: 0.2416   (4.1248)\ttime: 1155ms  (1100ms)\n",
      "################################################################################\n",
      "Epoch summary:\n",
      "accuracy: 57.50% \tloss: 2.9040 \ttime: 1031ms\n",
      "################################################################################\n",
      "progress: 1/10  (10.00%) \taccuracy: 100.00%  (64.61%)\tloss: 0.1312   (2.9267)\ttime: 1150ms  (1115ms)\n",
      "progress: 2/10  (20.00%) \taccuracy: 75.00%   (67.72%)\tloss: 0.4071   (2.1708)\ttime: 1164ms  (1130ms)\n",
      "progress: 3/10  (30.00%) \taccuracy: 100.00%  (77.41%)\tloss: 0.0453   (1.5332)\ttime: 1145ms  (1134ms)\n",
      "progress: 4/10  (40.00%) \taccuracy: 0.00%    (54.18%)\tloss: 16.7567  (6.1002)\ttime: 1140ms  (1136ms)\n",
      "progress: 5/10  (50.00%) \taccuracy: 100.00%  (67.93%)\tloss: 0.1434   (4.3132)\ttime: 1132ms  (1135ms)\n",
      "progress: 6/10  (60.00%) \taccuracy: 25.00%   (55.05%)\tloss: 5.5281   (4.6776)\ttime: 1148ms  (1139ms)\n",
      "progress: 7/10  (70.00%) \taccuracy: 50.00%   (53.54%)\tloss: 1.1116   (3.6078)\ttime: 1173ms  (1149ms)\n",
      "progress: 8/10  (80.00%) \taccuracy: 75.00%   (59.97%)\tloss: 0.5953   (2.7041)\ttime: 1132ms  (1144ms)\n",
      "progress: 9/10  (90.00%) \taccuracy: 50.00%   (56.98%)\tloss: 4.3804   (3.2070)\ttime: 1146ms  (1144ms)\n",
      "progress: 10/10 (100.00%)\taccuracy: 25.00%   (47.39%)\tloss: 9.6555   (5.1415)\ttime: 1143ms  (1144ms)\n",
      "################################################################################\n",
      "Epoch summary:\n",
      "accuracy: 60.00% \tloss: 3.8755 \ttime: 1147ms\n",
      "################################################################################\n",
      "progress: 1/10  (10.00%) \taccuracy: 75.00%   (55.67%)\tloss: 0.7273   (3.8173)\ttime: 1176ms  (1154ms)\n",
      "progress: 2/10  (20.00%) \taccuracy: 100.00%  (68.97%)\tloss: 0.0002   (2.6721)\ttime: 1151ms  (1153ms)\n",
      "progress: 3/10  (30.00%) \taccuracy: 100.00%  (78.28%)\tloss: 0.0006   (1.8707)\ttime: 1194ms  (1165ms)\n",
      "progress: 4/10  (40.00%) \taccuracy: 100.00%  (84.80%)\tloss: 0.0000   (1.3095)\ttime: 1147ms  (1160ms)\n",
      "progress: 5/10  (50.00%) \taccuracy: 75.00%   (81.86%)\tloss: 1.2478   (1.2910)\ttime: 1147ms  (1156ms)\n",
      "progress: 6/10  (60.00%) \taccuracy: 25.00%   (64.80%)\tloss: 10.2544  (3.9800)\ttime: 1152ms  (1155ms)\n",
      "progress: 7/10  (70.00%) \taccuracy: 25.00%   (52.86%)\tloss: 6.0394   (4.5978)\ttime: 1154ms  (1154ms)\n",
      "progress: 8/10  (80.00%) \taccuracy: 100.00%  (67.00%)\tloss: 0.0065   (3.2204)\ttime: 1137ms  (1149ms)\n",
      "progress: 9/10  (90.00%) \taccuracy: 75.00%   (69.40%)\tloss: 2.5178   (3.0097)\ttime: 1130ms  (1144ms)\n",
      "progress: 10/10 (100.00%)\taccuracy: 100.00%  (78.58%)\tloss: 0.0018   (2.1073)\ttime: 1145ms  (1144ms)\n",
      "################################################################################\n",
      "Epoch summary:\n",
      "accuracy: 77.50% \tloss: 2.0796 \ttime: 1153ms\n",
      "################################################################################\n",
      "progress: 1/10  (10.00%) \taccuracy: 25.00%   (62.51%)\tloss: 12.1949  (5.1336)\ttime: 1161ms  (1149ms)\n",
      "progress: 2/10  (20.00%) \taccuracy: 100.00%  (73.75%)\tloss: 0.0000   (3.5935)\ttime: 1179ms  (1158ms)\n",
      "progress: 3/10  (30.00%) \taccuracy: 100.00%  (81.63%)\tloss: 0.0000   (2.5155)\ttime: 1152ms  (1156ms)\n",
      "progress: 4/10  (40.00%) \taccuracy: 100.00%  (87.14%)\tloss: 0.0000   (1.7608)\ttime: 1177ms  (1163ms)\n",
      "progress: 5/10  (50.00%) \taccuracy: 100.00%  (91.00%)\tloss: 0.0089   (1.2353)\ttime: 1149ms  (1158ms)\n",
      "progress: 6/10  (60.00%) \taccuracy: 100.00%  (93.70%)\tloss: 0.0000   (0.8647)\ttime: 1131ms  (1150ms)\n",
      "progress: 7/10  (70.00%) \taccuracy: 100.00%  (95.59%)\tloss: 0.0000   (0.6053)\ttime: 1147ms  (1149ms)\n",
      "progress: 8/10  (80.00%) \taccuracy: 100.00%  (96.91%)\tloss: 0.0000   (0.4237)\ttime: 1161ms  (1153ms)\n",
      "progress: 9/10  (90.00%) \taccuracy: 100.00%  (97.84%)\tloss: 0.0000   (0.2966)\ttime: 1188ms  (1163ms)\n",
      "progress: 10/10 (100.00%)\taccuracy: 75.00%   (90.99%)\tloss: 0.3321   (0.3073)\ttime: 1177ms  (1168ms)\n",
      "################################################################################\n",
      "Epoch summary:\n",
      "accuracy: 90.00% \tloss: 1.2536 \ttime: 1162ms\n",
      "################################################################################\n",
      "progress: 1/10  (10.00%) \taccuracy: 75.00%   (86.19%)\tloss: 0.4248   (0.3425)\ttime: 1149ms  (1162ms)\n",
      "progress: 2/10  (20.00%) \taccuracy: 100.00%  (90.33%)\tloss: 0.0000   (0.2398)\ttime: 1185ms  (1169ms)\n",
      "progress: 3/10  (30.00%) \taccuracy: 75.00%   (85.73%)\tloss: 4.6524   (1.5636)\ttime: 1157ms  (1165ms)\n",
      "progress: 4/10  (40.00%) \taccuracy: 25.00%   (67.51%)\tloss: 4.5490   (2.4592)\ttime: 1135ms  (1156ms)\n",
      "progress: 5/10  (50.00%) \taccuracy: 100.00%  (77.26%)\tloss: 0.0000   (1.7214)\ttime: 1140ms  (1151ms)\n",
      "progress: 6/10  (60.00%) \taccuracy: 100.00%  (84.08%)\tloss: 0.0409   (1.2173)\ttime: 1145ms  (1149ms)\n",
      "progress: 7/10  (70.00%) \taccuracy: 100.00%  (88.86%)\tloss: 0.0000   (0.8521)\ttime: 1148ms  (1149ms)\n",
      "progress: 8/10  (80.00%) \taccuracy: 100.00%  (92.20%)\tloss: 0.0012   (0.5968)\ttime: 1135ms  (1145ms)\n",
      "progress: 9/10  (90.00%) \taccuracy: 100.00%  (94.54%)\tloss: 0.0000   (0.4178)\ttime: 1148ms  (1146ms)\n",
      "progress: 10/10 (100.00%)\taccuracy: 100.00%  (96.18%)\tloss: 0.0001   (0.2925)\ttime: 1148ms  (1146ms)\n",
      "################################################################################\n",
      "Epoch summary:\n",
      "accuracy: 87.50% \tloss: 0.9668 \ttime: 1149ms\n",
      "################################################################################\n"
     ]
    }
   ],
   "source": [
    "# fine-tune with new classes\n",
    "t = trainer.Trainer(model, criterion, optimizer, train_loader)\n",
    "t.register_plugin(trainer.plugins.ProgressMonitor())\n",
    "t.register_plugin(trainer.plugins.AccuracyMonitor())\n",
    "t.register_plugin(trainer.plugins.LossMonitor())\n",
    "t.register_plugin(trainer.plugins.TimeMonitor())\n",
    "t.register_plugin(trainer.plugins.Logger(['progress', 'accuracy', 'loss', 'time']))\n",
    "\n",
    "# Requires a monkey patched version of trainer.py that calls\n",
    "# input_var = Variable(batch_input.cuda())    # Line 57\n",
    "# target_var = Variable(batch_target.cuda())  # Line 58\n",
    "epochs = 5\n",
    "t.run(epochs)"
   ]
  },
  {
   "cell_type": "code",
   "execution_count": 81,
   "metadata": {
    "collapsed": false,
    "deletable": true,
    "editable": true
   },
   "outputs": [],
   "source": [
    "# Define some helper functions\n",
    "\n",
    "def denorm(tensor):\n",
    "    # Undo the image normalization + clamp between 0 and 1 to avoid image artifacts\n",
    "    for t, m, s in zip(tensor, [0.485, 0.456, 0.406], [0.229, 0.224, 0.225]): \n",
    "        t.mul_(s).add_(m).clamp_(0, 1)\n",
    "    return tensor\n",
    "\n",
    "def get_images_to_plot(images_tensor):\n",
    "    denormalize = transforms.Compose([\n",
    "        transforms.Lambda(denorm)\n",
    "    ])\n",
    "    return denormalize(images_tensor)\n",
    "\n",
    "def get_classes_strings(classes, labels_ids):\n",
    "    # returns the classes in string format\n",
    "    return [classes[label_id] for label_id in labels_ids]\n",
    "\n",
    "def get_prediction_classes_ids(predictions):\n",
    "    # returns the predictions in id format\n",
    "    predictions_ids = predictions.cpu().data.numpy().argmax(1)\n",
    "    return predictions_ids\n",
    "\n",
    "def get_prediction_classes_strings(classes, predictions):\n",
    "    # returns the predictions in string format\n",
    "    return get_classes_strings(classes, get_prediction_classes_ids(predictions))"
   ]
  },
  {
   "cell_type": "code",
   "execution_count": 82,
   "metadata": {
    "collapsed": false,
    "deletable": true,
    "editable": true
   },
   "outputs": [
    {
     "name": "stdout",
     "output_type": "stream",
     "text": [
      "['cats', 'dogs', 'cats', 'cats']\n"
     ]
    },
    {
     "data": {
      "image/png": "[encoded data removed]",
      "text/plain": [
       "<matplotlib.figure.Figure at 0x129c93550>"
      ]
     },
     "metadata": {},
     "output_type": "display_data"
    }
   ],
   "source": [
    "# display a sample set of images and their labels\n",
    "train_loader = get_data_loader(valdir, batch_size = 4)\n",
    "images, labels = next(iter(train_loader))\n",
    "show(make_grid(get_images_to_plot(images), padding=100))\n",
    "labels_string = get_classes_strings(classes, labels.numpy())\n",
    "print(labels_string)"
   ]
  },
  {
   "cell_type": "code",
   "execution_count": 83,
   "metadata": {
    "collapsed": false,
    "deletable": true,
    "editable": true
   },
   "outputs": [
    {
     "name": "stdout",
     "output_type": "stream",
     "text": [
      "['cats', 'dogs', 'cats', 'dogs']\n"
     ]
    }
   ],
   "source": [
    "# display the predictons for the images above\n",
    "if use_cuda:\n",
    "    images = images.cuda()\n",
    "predictions = model(Variable(images))\n",
    "predictions_string = get_prediction_classes_strings(classes, predictions)\n",
    "print(predictions_string)"
   ]
  },
  {
   "cell_type": "code",
   "execution_count": 91,
   "metadata": {
    "collapsed": false,
    "deletable": true,
    "editable": true
   },
   "outputs": [],
   "source": [
    "import sys\n",
    "\n",
    "def predict(val_loader, on_batch_predictions):\n",
    "    # Process each mini-batch and accumulate all correct classifications\n",
    "    all_predictions = [] # holds probabilities for every file id\n",
    "    num_batches = sum(1 for b in enumerate(val_loader))\n",
    "    batches = enumerate(val_loader)\n",
    "    result = 0\n",
    "    for i, (images, labels) in batches:\n",
    "        sys.stdout.write('\\rBatch: {:d}/{:d}'.format(i + 1, num_batches))\n",
    "        sys.stdout.flush()\n",
    "        if use_cuda:\n",
    "            images = images.cuda()\n",
    "        predictions = model(Variable(images))\n",
    "        result = on_batch_predictions(images, labels, predictions, val_loader)\n",
    "    # Avoid carriage return\n",
    "    print('')\n",
    "    return result\n",
    "\n",
    "def get_correct_predictions():\n",
    "    correct = 0\n",
    "    def count_correct_predictions(images, labels, predictions, val_loader):\n",
    "        nonlocal correct\n",
    "        prediction_classes_ids = torch.from_numpy(get_prediction_classes_ids(predictions))\n",
    "        correct += labels.eq(prediction_classes_ids).sum()\n",
    "        return correct\n",
    "    return count_correct_predictions\n",
    "\n",
    "def get_all_predictions():\n",
    "    all_predictions = []\n",
    "    def append_predictions(images, labels, predictions, val_loader):\n",
    "        nonlocal all_predictions\n",
    "        dog_class_id = val_loader.dataset.class_to_idx['dogs']\n",
    "        # Clamp between 0.05 and 0.95 to avoid being heavily penalized on mistakes\n",
    "        predictions_prob = F.softmax(predictions).data.clamp_(0.05, 0.95)\n",
    "        all_predictions.extend(predictions_prob[:,dog_class_id])\n",
    "        return all_predictions\n",
    "    return append_predictions"
   ]
  },
  {
   "cell_type": "code",
   "execution_count": 85,
   "metadata": {
    "collapsed": false,
    "deletable": true,
    "editable": true
   },
   "outputs": [
    {
     "name": "stdout",
     "output_type": "stream",
     "text": [
      "Batch: 4/4\n",
      "Accuracy for validation set: 50.0\n"
     ]
    }
   ],
   "source": [
    "correct_count = predict(val_loader, get_correct_predictions())\n",
    "precision = 100.0 * correct_count / len(val_loader.dataset.imgs)\n",
    "print('Accuracy for validation set: {}'.format(precision))"
   ]
  },
  {
   "cell_type": "code",
   "execution_count": 92,
   "metadata": {
    "collapsed": true
   },
   "outputs": [],
   "source": [
    "import csv\n",
    "import sys\n",
    "\n",
    "def save_kaggle_predictions():\n",
    "    all_predictions = predict(test_loader, get_all_predictions())\n",
    "    with open(\"data/dogscats/predictions.csv\", \"wt\") as f:\n",
    "        writer = csv.writer(f)\n",
    "        writer.writerow((\"id\",\"label\"))\n",
    "        for i, is_dog_probability in enumerate(all_predictions):\n",
    "            row = (\n",
    "                i + 1,\n",
    "                is_dog_probability\n",
    "            )\n",
    "            writer.writerow(row)"
   ]
  },
  {
   "cell_type": "code",
   "execution_count": 93,
   "metadata": {
    "collapsed": false
   },
   "outputs": [
    {
     "name": "stdout",
     "output_type": "stream",
     "text": [
      "Batch: 4/4\n"
     ]
    }
   ],
   "source": [
    "save_kaggle_predictions()"
   ]
  }
 ],
 "metadata": {
  "kernelspec": {
   "display_name": "Python 3",
   "language": "python",
   "name": "python3"
  },
  "language_info": {
   "codemirror_mode": {
    "name": "ipython",
    "version": 3
   },
   "file_extension": ".py",
   "mimetype": "text/x-python",
   "name": "python",
   "nbconvert_exporter": "python",
   "pygments_lexer": "ipython3",
   "version": "3.5.2"
  }
 },
 "nbformat": 4,
 "nbformat_minor": 2
}
