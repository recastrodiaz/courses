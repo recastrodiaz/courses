{
 "cells": [
  {
   "cell_type": "code",
   "execution_count": 62,
   "metadata": {
    "collapsed": true
   },
   "outputs": [],
   "source": [
    "from PIL import Image"
   ]
  },
  {
   "cell_type": "code",
   "execution_count": null,
   "metadata": {
    "collapsed": true
   },
   "outputs": [],
   "source": [
    "# Requirements\n",
    "% mkdir -p data/galaxies\n",
    "% mkdir -p data/galaxies/train\n",
    "% mkdir -p data/galaxies/valid\n",
    "% mkdir -p data/galaxies/test\n",
    "\n",
    "# Required manual steps:\n",
    "# 1. Unzip images_training_rev1.zip under train/\n",
    "# 2. Unzip images_test_rev1.zip under test/\n",
    "# 3. Unzip training_solutions_rev1.zip and move the csv file to galaxies/classes.csv \n",
    "# 4. Manually move some files under train/ to sample/"
   ]
  },
  {
   "cell_type": "markdown",
   "metadata": {},
   "source": [
    "# Setup validation data ~20%"
   ]
  },
  {
   "cell_type": "code",
   "execution_count": 47,
   "metadata": {},
   "outputs": [],
   "source": [
    "import glob\n",
    "import os\n",
    "import numpy as np\n",
    "valid_img_count = 9999 # From a total of 61,579 images\n",
    "g = glob.glob('data/galaxies/train/*.jpg')\n",
    "shuf = np.random.permutation(g)\n",
    "for i in range(valid_img_count): os.rename(shuf[i], shuf[i].replace('/train/', '/valid/'))"
   ]
  },
  {
   "cell_type": "markdown",
   "metadata": {},
   "source": [
    "# Setup sample data"
   ]
  },
  {
   "cell_type": "code",
   "execution_count": 66,
   "metadata": {},
   "outputs": [],
   "source": [
    "# Nothing to do"
   ]
  }
 ],
 "metadata": {
  "kernelspec": {
   "display_name": "Python 3",
   "language": "python",
   "name": "python3"
  },
  "language_info": {
   "codemirror_mode": {
    "name": "ipython",
    "version": 3
   },
   "file_extension": ".py",
   "mimetype": "text/x-python",
   "name": "python",
   "nbconvert_exporter": "python",
   "pygments_lexer": "ipython3",
   "version": "3.5.2"
  }
 },
 "nbformat": 4,
 "nbformat_minor": 2
}
